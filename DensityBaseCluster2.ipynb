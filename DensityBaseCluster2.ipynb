{
 "cells": [
  {
   "cell_type": "code",
   "execution_count": 524,
   "metadata": {
    "collapsed": true
   },
   "outputs": [],
   "source": [
    "import numpy as np\n",
    "import pandas as pd\n",
    "from sklearn.datasets._samples_generator import make_blobs, make_moons\n",
    "from sklearn.neighbors import NearestNeighbors\n",
    "from math import dist\n",
    "from sklearn.cluster import DBSCAN\n",
    "from sklearn.cluster import KMeans\n",
    "from matplotlib import pyplot as plt\n",
    "import seaborn as sns"
   ]
  },
  {
   "cell_type": "code",
   "execution_count": 525,
   "outputs": [
    {
     "data": {
      "text/plain": "<matplotlib.collections.PathCollection at 0x7f1cc9a1a1c0>"
     },
     "execution_count": 525,
     "metadata": {},
     "output_type": "execute_result"
    },
    {
     "data": {
      "text/plain": "<Figure size 432x288 with 1 Axes>",
      "image/png": "[encoded data removed]"
     },
     "metadata": {
      "needs_background": "light"
     },
     "output_type": "display_data"
    }
   ],
   "source": [
    "# X, y = make_blobs(n_samples=1000, centers=20, cluster_std=0.5, random_state=10)\n",
    "X, y = make_blobs(n_samples=40000, centers=10, cluster_std=0.60, random_state=8)\n",
    "# X, y = make_moons(n_samples=1000, noise=0.1)\n",
    "plt.scatter(X[:, 0], X[:, 1])"
   ],
   "metadata": {
    "collapsed": false,
    "pycharm": {
     "name": "#%%\n"
    }
   }
  },
  {
   "cell_type": "code",
   "execution_count": 526,
   "outputs": [],
   "source": [
    "colors = ['royalblue', 'maroon', 'forestgreen', 'mediumorchid', 'tan', 'deeppink', 'olive', 'goldenrod', 'lightcyan',\n",
    "          'navy', 'red', 'blue', 'green']\n",
    "vectorizer = np.vectorize(lambda x: colors[x % len(colors)])"
   ],
   "metadata": {
    "collapsed": false,
    "pycharm": {
     "name": "#%%\n"
    }
   }
  },
  {
   "cell_type": "code",
   "execution_count": 527,
   "outputs": [],
   "source": [
    "min_pts = int(len(X)/200)"
   ],
   "metadata": {
    "collapsed": false,
    "pycharm": {
     "name": "#%%\n"
    }
   }
  },
  {
   "cell_type": "code",
   "execution_count": 528,
   "outputs": [
    {
     "data": {
      "text/plain": "[<matplotlib.lines.Line2D at 0x7f1cc99fe460>]"
     },
     "execution_count": 528,
     "metadata": {},
     "output_type": "execute_result"
    },
    {
     "data": {
      "text/plain": "<Figure size 432x288 with 1 Axes>",
      "image/png": "[encoded data removed]"
     },
     "metadata": {
      "needs_background": "light"
     },
     "output_type": "display_data"
    }
   ],
   "source": [
    "neigh = NearestNeighbors(n_neighbors=min_pts)\n",
    "nbrs = neigh.fit(X)\n",
    "distances, indices = nbrs.kneighbors(X)\n",
    "distances = np.sort(distances, axis=0)\n",
    "distances = distances[:, 1]\n",
    "plt.plot(distances)"
   ],
   "metadata": {
    "collapsed": false,
    "pycharm": {
     "name": "#%%\n"
    }
   }
  },
  {
   "cell_type": "code",
   "execution_count": 529,
   "outputs": [
    {
     "data": {
      "text/plain": "array([[ 2.09926275, -1.03189874],\n       [-3.67600986, -6.2329457 ],\n       [-3.27569677,  9.84368378],\n       ...,\n       [-0.72476978, -1.73101656],\n       [ 2.07320804, -1.96862403],\n       [ 7.7494726 ,  0.88925449]])"
     },
     "execution_count": 529,
     "metadata": {},
     "output_type": "execute_result"
    }
   ],
   "source": [
    "X"
   ],
   "metadata": {
    "collapsed": false,
    "pycharm": {
     "name": "#%%\n"
    }
   }
  },
  {
   "cell_type": "code",
   "execution_count": 530,
   "outputs": [
    {
     "data": {
      "text/plain": "array([8.22046694e-05, 8.22046694e-05, 1.60230177e-04, ...,\n       5.77203306e-01, 5.97414996e-01, 8.00136140e-01])"
     },
     "execution_count": 530,
     "metadata": {},
     "output_type": "execute_result"
    }
   ],
   "source": [
    "distances"
   ],
   "metadata": {
    "collapsed": false,
    "pycharm": {
     "name": "#%%\n"
    }
   }
  },
  {
   "cell_type": "code",
   "execution_count": 531,
   "outputs": [
    {
     "name": "stdout",
     "output_type": "stream",
     "text": [
      "39907\n",
      "0.21963664268371602\n",
      "***\n"
     ]
    }
   ],
   "source": [
    "diff = np.array([])\n",
    "for key, value in enumerate(distances):\n",
    "    if key != len(distances) - 1:\n",
    "        diff = np.append(diff, abs(value - distances[key + 1]))\n",
    "\n",
    "diffStd = diff.std()\n",
    "\n",
    "for key, value in enumerate(diff):\n",
    "    if value > 3 * diffStd:\n",
    "        print(key)\n",
    "        print(distances[key])\n",
    "        eps = distances[key]\n",
    "        print(\"***\")\n",
    "        break"
   ],
   "metadata": {
    "collapsed": false,
    "pycharm": {
     "name": "#%%\n"
    }
   }
  },
  {
   "cell_type": "code",
   "execution_count": 532,
   "outputs": [
    {
     "data": {
      "text/plain": "DBSCAN(eps=0.21963664268371602)"
     },
     "execution_count": 532,
     "metadata": {},
     "output_type": "execute_result"
    }
   ],
   "source": [
    "m = DBSCAN(eps=eps, min_samples=5)\n",
    "m.fit(X)"
   ],
   "metadata": {
    "collapsed": false,
    "pycharm": {
     "name": "#%%\n"
    }
   }
  },
  {
   "cell_type": "code",
   "execution_count": 533,
   "outputs": [
    {
     "data": {
      "text/plain": "array([0, 1, 2, ..., 0, 0, 5])"
     },
     "execution_count": 533,
     "metadata": {},
     "output_type": "execute_result"
    }
   ],
   "source": [
    "clusters = m.labels_\n",
    "clusters"
   ],
   "metadata": {
    "collapsed": false,
    "pycharm": {
     "name": "#%%\n"
    }
   }
  },
  {
   "cell_type": "code",
   "execution_count": 534,
   "outputs": [
    {
     "data": {
      "text/plain": "<matplotlib.collections.PathCollection at 0x7f1cc9953a90>"
     },
     "execution_count": 534,
     "metadata": {},
     "output_type": "execute_result"
    },
    {
     "data": {
      "text/plain": "<Figure size 432x288 with 1 Axes>",
      "image/png": "[encoded data removed]"
     },
     "metadata": {
      "needs_background": "light"
     },
     "output_type": "display_data"
    }
   ],
   "source": [
    "plt.scatter(X[:, 0], X[:, 1], c=vectorizer(clusters))"
   ],
   "metadata": {
    "collapsed": false,
    "pycharm": {
     "name": "#%%\n"
    }
   }
  },
  {
   "cell_type": "code",
   "execution_count": 535,
   "outputs": [
    {
     "data": {
      "text/plain": "              0         1  cluster\n0      2.099263 -1.031899        0\n1     -3.676010 -6.232946        1\n2     -3.275697  9.843684        2\n3      1.457797  1.114560        0\n4      2.220131 -1.775720        0\n...         ...       ...      ...\n39995 -4.582140 -9.924928        6\n39996  2.512774 -1.873069        0\n39997 -0.724770 -1.731017        0\n39998  2.073208 -1.968624        0\n39999  7.749473  0.889254        5\n\n[40000 rows x 3 columns]",
      "text/html": "<div>\n<style scoped>\n    .dataframe tbody tr th:only-of-type {\n        vertical-align: middle;\n    }\n\n    .dataframe tbody tr th {\n        vertical-align: top;\n    }\n\n    .dataframe thead th {\n        text-align: right;\n    }\n</style>\n<table border=\"1\" class=\"dataframe\">\n  <thead>\n    <tr style=\"text-align: right;\">\n      <th></th>\n      <th>0</th>\n      <th>1</th>\n      <th>cluster</th>\n    </tr>\n  </thead>\n  <tbody>\n    <tr>\n      <th>0</th>\n      <td>2.099263</td>\n      <td>-1.031899</td>\n      <td>0</td>\n    </tr>\n    <tr>\n      <th>1</th>\n      <td>-3.676010</td>\n      <td>-6.232946</td>\n      <td>1</td>\n    </tr>\n    <tr>\n      <th>2</th>\n      <td>-3.275697</td>\n      <td>9.843684</td>\n      <td>2</td>\n    </tr>\n    <tr>\n      <th>3</th>\n      <td>1.457797</td>\n      <td>1.114560</td>\n      <td>0</td>\n    </tr>\n    <tr>\n      <th>4</th>\n      <td>2.220131</td>\n      <td>-1.775720</td>\n      <td>0</td>\n    </tr>\n    <tr>\n      <th>...</th>\n      <td>...</td>\n      <td>...</td>\n      <td>...</td>\n    </tr>\n    <tr>\n      <th>39995</th>\n      <td>-4.582140</td>\n      <td>-9.924928</td>\n      <td>6</td>\n    </tr>\n    <tr>\n      <th>39996</th>\n      <td>2.512774</td>\n      <td>-1.873069</td>\n      <td>0</td>\n    </tr>\n    <tr>\n      <th>39997</th>\n      <td>-0.724770</td>\n      <td>-1.731017</td>\n      <td>0</td>\n    </tr>\n    <tr>\n      <th>39998</th>\n      <td>2.073208</td>\n      <td>-1.968624</td>\n      <td>0</td>\n    </tr>\n    <tr>\n      <th>39999</th>\n      <td>7.749473</td>\n      <td>0.889254</td>\n      <td>5</td>\n    </tr>\n  </tbody>\n</table>\n<p>40000 rows × 3 columns</p>\n</div>"
     },
     "execution_count": 535,
     "metadata": {},
     "output_type": "execute_result"
    }
   ],
   "source": [
    "cluster_value = pd.concat([pd.DataFrame(X), pd.DataFrame(clusters, columns=['cluster'])], axis=1)\n",
    "cluster_value\n"
   ],
   "metadata": {
    "collapsed": false,
    "pycharm": {
     "name": "#%%\n"
    }
   }
  },
  {
   "cell_type": "code",
   "execution_count": 536,
   "outputs": [],
   "source": [
    "def calculate_member_core_point(cluster_values, cluster_number):\n",
    "    core_point_arrays = cluster_values.groupby('cluster').get_group(cluster_number).drop('cluster', axis=1).to_numpy()\n",
    "    core_points = dict()\n",
    "    for pi in core_point_arrays:\n",
    "        point = 0\n",
    "        for pj in core_point_arrays:\n",
    "            if dist(pi, pj) < eps:\n",
    "                point += 1\n",
    "        core_points[point] = pi\n",
    "    return core_points\n",
    "\n",
    "# dens_value = dict(sorted(calculate_member_core_point(cluster_value, 0).items(), reverse=True))\n",
    "# dens_value"
   ],
   "metadata": {
    "collapsed": false,
    "pycharm": {
     "name": "#%%\n"
    }
   }
  },
  {
   "cell_type": "code",
   "execution_count": 537,
   "outputs": [],
   "source": [
    "def find_center_point(point1, point2):\n",
    "    n = len(point1)\n",
    "    result = [0 for i in range(n)]\n",
    "    for i in range(n):\n",
    "        result[i] = (point1[i] + point2[i]) / 2\n",
    "    return [result[i] for i, v in enumerate(result)]"
   ],
   "metadata": {
    "collapsed": false,
    "pycharm": {
     "name": "#%%\n"
    }
   }
  },
  {
   "cell_type": "code",
   "execution_count": 538,
   "outputs": [
    {
     "data": {
      "text/plain": "[3.5, 5.0, 5.0]"
     },
     "execution_count": 538,
     "metadata": {},
     "output_type": "execute_result"
    }
   ],
   "source": [
    "find_center_point([5, 3, 4], [2, 7, 6])"
   ],
   "metadata": {
    "collapsed": false,
    "pycharm": {
     "name": "#%%\n"
    }
   }
  },
  {
   "cell_type": "code",
   "execution_count": 539,
   "outputs": [],
   "source": [
    "def compress_data(dens_values):\n",
    "    final_point = []\n",
    "    not_check = []\n",
    "    iterate = 0\n",
    "    middlePoint = []\n",
    "    for kpi, pi in dens_values.items():\n",
    "        middlePoint = pi\n",
    "        dens = 0\n",
    "        continues = 0\n",
    "        for key, check in enumerate(not_check):\n",
    "            if (pi == check).all():\n",
    "                continues = 1\n",
    "                break\n",
    "        if continues == 1:\n",
    "            continue\n",
    "        for kpj, pj in dens_values.items():\n",
    "            if (dist(middlePoint, pj) < eps and dist(middlePoint, pj) != 0):\n",
    "                middlePoint = find_center_point(middlePoint, pj)\n",
    "                not_check.append(pj)\n",
    "                dens += 1\n",
    "        print(dens)\n",
    "        middlePoint = np.append(middlePoint, dens)\n",
    "        final_point.append(np.ndarray.tolist(np.array(middlePoint)))\n",
    "    return final_point"
   ],
   "metadata": {
    "collapsed": false,
    "pycharm": {
     "name": "#%%\n"
    }
   }
  },
  {
   "cell_type": "code",
   "execution_count": 540,
   "outputs": [
    {
     "name": "stdout",
     "output_type": "stream",
     "text": [
      "10\n",
      "8\n",
      "4\n",
      "12\n",
      "11\n",
      "9\n",
      "11\n",
      "4\n",
      "3\n",
      "11\n",
      "2\n",
      "4\n",
      "0\n",
      "5\n",
      "3\n",
      "5\n",
      "5\n",
      "8\n",
      "6\n",
      "4\n",
      "0\n",
      "5\n",
      "6\n",
      "6\n",
      "8\n",
      "7\n",
      "4\n",
      "4\n",
      "6\n",
      "4\n",
      "1\n",
      "5\n",
      "2\n",
      "9\n",
      "1\n",
      "0\n",
      "2\n",
      "4\n",
      "3\n",
      "5\n",
      "2\n",
      "2\n",
      "3\n",
      "3\n",
      "2\n",
      "0\n",
      "6\n",
      "0\n",
      "4\n",
      "2\n",
      "2\n",
      "3\n",
      "3\n",
      "3\n",
      "4\n",
      "0\n",
      "2\n",
      "3\n",
      "1\n",
      "0\n",
      "2\n",
      "2\n",
      "4\n",
      "1\n",
      "1\n",
      "0\n",
      "0\n",
      "3\n",
      "1\n",
      "0\n",
      "4\n",
      "3\n",
      "0\n",
      "2\n",
      "4\n",
      "1\n",
      "1\n",
      "1\n",
      "1\n",
      "3\n",
      "2\n",
      "1\n",
      "1\n",
      "0\n",
      "2\n",
      "1\n",
      "0\n",
      "0\n",
      "2\n",
      "1\n",
      "2\n",
      "4\n",
      "0\n",
      "0\n",
      "0\n",
      "0\n",
      "1\n",
      "3\n",
      "0\n",
      "0\n",
      "0\n",
      "0\n",
      "3\n",
      "3\n",
      "1\n",
      "3\n",
      "3\n",
      "0\n",
      "5\n",
      "1\n",
      "0\n",
      "0\n",
      "1\n",
      "0\n",
      "2\n",
      "0\n",
      "0\n",
      "2\n",
      "0\n",
      "0\n",
      "2\n",
      "0\n",
      "0\n",
      "0\n",
      "2\n",
      "2\n",
      "0\n",
      "0\n",
      "0\n",
      "0\n",
      "0\n",
      "1\n",
      "0\n",
      "0\n",
      "0\n",
      "0\n",
      "1\n",
      "1\n",
      "0\n",
      "1\n",
      "0\n",
      "0\n",
      "1\n",
      "0\n",
      "0\n",
      "0\n",
      "0\n",
      "60\n",
      "61\n",
      "61\n",
      "61\n",
      "61\n",
      "61\n",
      "61\n",
      "61\n",
      "47\n",
      "61\n",
      "32\n",
      "41\n",
      "58\n",
      "32\n",
      "43\n",
      "58\n",
      "41\n",
      "41\n",
      "30\n",
      "41\n",
      "31\n",
      "41\n",
      "28\n",
      "57\n",
      "41\n",
      "41\n",
      "34\n",
      "57\n",
      "34\n",
      "31\n",
      "41\n",
      "14\n",
      "14\n",
      "29\n",
      "28\n",
      "27\n",
      "6\n",
      "29\n",
      "15\n",
      "24\n",
      "9\n",
      "18\n",
      "26\n",
      "12\n",
      "11\n",
      "17\n",
      "21\n",
      "9\n",
      "20\n",
      "9\n",
      "3\n",
      "15\n",
      "4\n",
      "5\n",
      "6\n",
      "3\n",
      "3\n",
      "13\n",
      "4\n",
      "6\n",
      "2\n",
      "3\n",
      "5\n",
      "4\n",
      "2\n",
      "2\n",
      "0\n",
      "4\n",
      "1\n",
      "4\n",
      "0\n",
      "3\n",
      "1\n",
      "0\n",
      "0\n",
      "0\n",
      "2\n",
      "0\n",
      "0\n",
      "0\n",
      "4\n",
      "0\n",
      "0\n",
      "2\n",
      "0\n",
      "0\n",
      "1\n",
      "0\n",
      "0\n",
      "0\n",
      "0\n",
      "0\n",
      "0\n",
      "0\n",
      "40\n",
      "41\n",
      "41\n",
      "41\n",
      "38\n",
      "40\n",
      "33\n",
      "39\n",
      "38\n",
      "33\n",
      "20\n",
      "41\n",
      "38\n",
      "30\n",
      "21\n",
      "30\n",
      "27\n",
      "27\n",
      "21\n",
      "26\n",
      "21\n",
      "31\n",
      "29\n",
      "27\n",
      "15\n",
      "31\n",
      "16\n",
      "28\n",
      "15\n",
      "29\n",
      "15\n",
      "31\n",
      "15\n",
      "27\n",
      "13\n",
      "20\n",
      "17\n",
      "22\n",
      "14\n",
      "8\n",
      "18\n",
      "14\n",
      "8\n",
      "16\n",
      "14\n",
      "24\n",
      "13\n",
      "13\n",
      "13\n",
      "13\n",
      "3\n",
      "15\n",
      "15\n",
      "13\n",
      "11\n",
      "15\n",
      "13\n",
      "11\n",
      "3\n",
      "11\n",
      "11\n",
      "11\n",
      "11\n",
      "10\n",
      "3\n",
      "2\n",
      "9\n",
      "6\n",
      "2\n",
      "7\n",
      "4\n",
      "1\n",
      "5\n",
      "2\n",
      "0\n",
      "5\n",
      "2\n",
      "7\n",
      "1\n",
      "2\n",
      "1\n",
      "0\n",
      "1\n",
      "1\n",
      "2\n",
      "2\n",
      "2\n",
      "0\n",
      "0\n",
      "3\n",
      "0\n",
      "0\n",
      "0\n",
      "0\n",
      "0\n",
      "0\n",
      "1\n",
      "0\n",
      "0\n",
      "0\n",
      "0\n",
      "0\n",
      "48\n",
      "49\n",
      "49\n",
      "48\n",
      "49\n",
      "48\n",
      "43\n",
      "46\n",
      "41\n",
      "46\n",
      "48\n",
      "49\n",
      "48\n",
      "41\n",
      "31\n",
      "19\n",
      "19\n",
      "28\n",
      "37\n",
      "16\n",
      "22\n",
      "22\n",
      "48\n",
      "13\n",
      "22\n",
      "29\n",
      "28\n",
      "11\n",
      "27\n",
      "25\n",
      "28\n",
      "12\n",
      "12\n",
      "12\n",
      "21\n",
      "21\n",
      "20\n",
      "12\n",
      "12\n",
      "12\n",
      "18\n",
      "11\n",
      "18\n",
      "18\n",
      "19\n",
      "15\n",
      "19\n",
      "16\n",
      "19\n",
      "10\n",
      "10\n",
      "10\n",
      "5\n",
      "7\n",
      "14\n",
      "13\n",
      "15\n",
      "8\n",
      "11\n",
      "6\n",
      "3\n",
      "8\n",
      "1\n",
      "7\n",
      "6\n",
      "4\n",
      "4\n",
      "3\n",
      "8\n",
      "7\n",
      "3\n",
      "5\n",
      "4\n",
      "0\n",
      "0\n",
      "4\n",
      "1\n",
      "1\n",
      "2\n",
      "2\n",
      "1\n",
      "1\n",
      "0\n",
      "2\n",
      "0\n",
      "2\n",
      "2\n",
      "0\n",
      "0\n",
      "0\n",
      "0\n",
      "1\n",
      "0\n",
      "0\n",
      "0\n",
      "0\n",
      "47\n",
      "49\n",
      "49\n",
      "49\n",
      "48\n",
      "48\n",
      "42\n",
      "48\n",
      "42\n",
      "41\n",
      "30\n",
      "42\n",
      "48\n",
      "48\n",
      "35\n",
      "33\n",
      "45\n",
      "35\n",
      "31\n",
      "45\n",
      "13\n",
      "33\n",
      "27\n",
      "45\n",
      "45\n",
      "31\n",
      "44\n",
      "32\n",
      "22\n",
      "45\n",
      "21\n",
      "21\n",
      "16\n",
      "37\n",
      "40\n",
      "21\n",
      "32\n",
      "21\n",
      "22\n",
      "14\n",
      "20\n",
      "15\n",
      "16\n",
      "14\n",
      "14\n",
      "15\n",
      "14\n",
      "7\n",
      "23\n",
      "7\n",
      "14\n",
      "11\n",
      "15\n",
      "18\n",
      "12\n",
      "8\n",
      "6\n",
      "8\n",
      "11\n",
      "12\n",
      "8\n",
      "8\n",
      "6\n",
      "7\n",
      "10\n",
      "7\n",
      "4\n",
      "0\n",
      "7\n",
      "6\n",
      "5\n",
      "4\n",
      "11\n",
      "8\n",
      "4\n",
      "3\n",
      "2\n",
      "2\n",
      "1\n",
      "4\n",
      "4\n",
      "5\n",
      "4\n",
      "1\n",
      "4\n",
      "3\n",
      "2\n",
      "0\n",
      "2\n",
      "0\n",
      "1\n",
      "2\n",
      "0\n",
      "0\n",
      "0\n",
      "3\n",
      "0\n",
      "0\n",
      "0\n",
      "0\n",
      "0\n",
      "0\n",
      "0\n",
      "38\n",
      "40\n",
      "30\n",
      "39\n",
      "39\n",
      "39\n",
      "39\n",
      "30\n",
      "36\n",
      "38\n",
      "29\n",
      "26\n",
      "22\n",
      "26\n",
      "26\n",
      "26\n",
      "26\n",
      "26\n",
      "22\n",
      "32\n",
      "32\n",
      "20\n",
      "38\n",
      "26\n",
      "16\n",
      "20\n",
      "22\n",
      "26\n",
      "19\n",
      "20\n",
      "15\n",
      "19\n",
      "25\n",
      "18\n",
      "14\n",
      "20\n",
      "24\n",
      "21\n",
      "11\n",
      "24\n",
      "24\n",
      "18\n",
      "15\n",
      "9\n",
      "11\n",
      "7\n",
      "11\n",
      "14\n",
      "10\n",
      "13\n",
      "4\n",
      "8\n",
      "15\n",
      "8\n",
      "4\n",
      "6\n",
      "4\n",
      "2\n",
      "8\n",
      "5\n",
      "3\n",
      "5\n",
      "3\n",
      "1\n",
      "1\n",
      "2\n",
      "1\n",
      "4\n",
      "2\n",
      "5\n",
      "1\n",
      "0\n",
      "6\n",
      "7\n",
      "4\n",
      "4\n",
      "1\n",
      "4\n",
      "2\n",
      "2\n",
      "3\n",
      "2\n",
      "0\n",
      "0\n",
      "2\n",
      "1\n",
      "0\n",
      "0\n",
      "1\n",
      "0\n",
      "0\n",
      "0\n",
      "0\n",
      "46\n",
      "47\n",
      "47\n",
      "47\n",
      "47\n",
      "47\n",
      "43\n",
      "43\n",
      "47\n",
      "47\n",
      "44\n",
      "43\n",
      "41\n",
      "47\n",
      "32\n",
      "47\n",
      "35\n",
      "35\n",
      "44\n",
      "44\n",
      "40\n",
      "33\n",
      "36\n",
      "30\n",
      "33\n",
      "30\n",
      "36\n",
      "30\n",
      "29\n",
      "30\n",
      "28\n",
      "30\n",
      "27\n",
      "26\n",
      "21\n",
      "15\n",
      "6\n",
      "10\n",
      "21\n",
      "21\n",
      "21\n",
      "26\n",
      "21\n",
      "24\n",
      "27\n",
      "24\n",
      "24\n",
      "24\n",
      "24\n",
      "24\n",
      "4\n",
      "8\n",
      "13\n",
      "8\n",
      "16\n",
      "7\n",
      "9\n",
      "12\n",
      "7\n",
      "3\n",
      "0\n",
      "8\n",
      "5\n",
      "12\n",
      "5\n",
      "6\n",
      "8\n",
      "5\n",
      "8\n",
      "4\n",
      "7\n",
      "0\n",
      "4\n",
      "6\n",
      "2\n",
      "8\n",
      "4\n",
      "2\n",
      "2\n",
      "1\n",
      "0\n",
      "4\n",
      "1\n",
      "3\n",
      "2\n",
      "0\n",
      "3\n",
      "0\n",
      "0\n",
      "3\n",
      "2\n",
      "1\n",
      "1\n",
      "0\n",
      "2\n",
      "0\n",
      "0\n",
      "0\n",
      "2\n",
      "0\n",
      "0\n",
      "0\n",
      "0\n",
      "0\n",
      "2\n"
     ]
    },
    {
     "data": {
      "text/plain": "[[0.7966471787654531, 0.538783324122819, 10.0],\n [0.49075551472852347, -0.6032044335062039, 8.0],\n [2.383185658716619, -1.6577965703224342, 4.0],\n [-1.1724679999975716, -1.7306680584745868, 12.0],\n [0.7966926177800449, 0.5387771701133411, 11.0],\n [-1.700136905961133, -2.0619363782450804, 9.0],\n [0.79668066304593, 0.5387919976808115, 11.0],\n [1.3185683425048755, 0.9774617258430688, 4.0],\n [1.039920703766716, 1.125637446643891, 3.0],\n [0.7966119890873817, 0.5388819435624763, 11.0],\n [-1.5982459868672487, -1.8978588847045512, 2.0],\n [0.9287603793043427, -0.16064714128874702, 4.0],\n [0.4697370537277879, -0.0019483541060376641, 0.0],\n [0.9517695098608976, -0.14862694973108187, 5.0],\n [0.38656049990745345, -0.30182513921763277, 3.0],\n [2.3869453520026855, -1.653240278983498, 5.0],\n [0.8746438878991627, 0.9771949365705128, 5.0],\n [0.4974899275747889, -0.6004735695095269, 8.0],\n [1.413839088667825, 0.6138928458264621, 6.0],\n [2.5048664300337884, -1.7778325411250475, 4.0],\n [0.48221460410996925, 0.2934912136968413, 0.0],\n [0.5127478064381474, -0.6088221615829273, 5.0],\n [-0.10417333388290351, -0.565366919886132, 6.0],\n [0.5122476241213394, -0.6038347362428276, 6.0],\n [-1.530392756173189, -1.467205659719554, 8.0],\n [-1.557689753671586, -1.4852046409808524, 7.0],\n [2.5654680462818624, -1.2338210878700022, 4.0],\n [-1.7403424173775135, -2.1987607802129707, 4.0],\n [-0.03619825577863981, -0.2603762178300413, 6.0],\n [1.1080393794772012, 1.2451970919351527, 4.0],\n [1.3672482895460987, 0.23944859643923416, 1.0],\n [1.2262427770056106, 1.232474646869397, 5.0],\n [2.0242212153397947, -1.919004637296882, 2.0],\n [-1.1733045470534926, -1.7334104522106366, 9.0],\n [2.02415127809329, -1.5299639050212532, 1.0],\n [0.613238646578291, 0.8142898022707769, 0.0],\n [1.205441279832141, 0.04022694116199889, 2.0],\n [0.8896475159325347, -0.7074879671473212, 4.0],\n [2.4571503185498997, -1.8602242054099514, 3.0],\n [1.5396772474805305, 1.1930634434934588, 5.0],\n [2.7516695915297795, -1.6430418410039667, 2.0],\n [2.02631461373538, -1.3527886371549067, 2.0],\n [-0.04617624326015704, 0.22033249928473464, 3.0],\n [2.7646569539222554, -1.2823084621096963, 3.0],\n [1.882150312164921, -1.0884086010457987, 2.0],\n [2.1524909988398564, -0.9709223248413358, 0.0],\n [0.7333792823441907, -0.8879675140157298, 6.0],\n [1.7617116639751544, -1.399483257274435, 0.0],\n [-0.1826248518671268, -0.9561417999949051, 4.0],\n [0.17037570179717954, 0.2900321009344962, 2.0],\n [-0.7566281262711111, -1.8244585757211602, 2.0],\n [2.9822162007235233, -1.731733629179986, 3.0],\n [2.8663965935705304, -0.8083584159841553, 3.0],\n [0.3069902104421214, 0.8105262521832778, 3.0],\n [3.0423398136935536, -1.6228919614684223, 4.0],\n [0.7341500597622372, 1.231153129113448, 0.0],\n [1.5173366641743526, 0.4439013982736, 2.0],\n [-1.945019250310512, -1.892350093836023, 3.0],\n [0.8655222978999726, 1.4574457425610654, 1.0],\n [1.8008957024603185, -1.6788176020068164, 0.0],\n [-1.806005388468319, -2.432799887413904, 2.0],\n [-0.8536217542733577, -2.3663750639863084, 2.0],\n [1.8666383298712126, -0.9058926111537294, 4.0],\n [0.31445215587929576, -1.1239137101596852, 1.0],\n [1.867355990446619, 0.9173045635842717, 1.0],\n [1.7666033503062193, 0.546718006694244, 0.0],\n [-1.9598931061828748, -1.568101755924693, 0.0],\n [-1.1674215001618837, -2.585829075164006, 3.0],\n [-0.9536873743153105, -1.4142465430151245, 1.0],\n [0.5546514792261688, -1.1307124737923107, 0.0],\n [1.6079631795776879, 1.5241069080818033, 4.0],\n [3.061774239123995, -1.2774270193330035, 3.0],\n [1.5479935034498133, -1.4620479057220397, 0.0],\n [-0.9721989461466412, -1.247245238469222, 2.0],\n [1.7031315330020882, -2.0753021700168612, 4.0],\n [1.5717745932976093, -0.5731414432750225, 1.0],\n [1.496425571283586, -0.8976544175645502, 1.0],\n [0.27991768297338604, 1.1434810031365834, 1.0],\n [2.9489967567435578, -2.171603534844537, 1.0],\n [0.9442836611025618, 1.570928735714649, 3.0],\n [1.0852092190696772, -1.1846077676069648, 2.0],\n [-1.665558368575379, -1.1273872143370824, 1.0],\n [-2.081164797629352, -2.450388249786161, 1.0],\n [0.5692694836669374, 1.5349216449443568, 0.0],\n [-1.2838503117020346, -2.7446798910238748, 2.0],\n [0.03219275523309495, 0.7574143143570669, 1.0],\n [2.462290457377331, -0.5875362452877315, 0.0],\n [-0.36173513953539227, 0.07082088703660905, 0.0],\n [1.1380701078694169, -1.1496287773252294, 2.0],\n [-0.6649177240537082, -2.55249027307251, 1.0],\n [-0.6832422521006218, -1.5738509691324347, 2.0],\n [-0.19470627030759183, -0.9714590802996188, 4.0],\n [-1.8722845479445245, -1.272631001594597, 0.0],\n [1.718511868692578, 0.1239369784351797, 0.0],\n [-2.280221064742644, -2.303742500099417, 0.0],\n [0.3424308281378991, -1.4545236874110674, 0.0],\n [-0.5114840821344933, -0.31414600443585294, 1.0],\n [-0.13451508826521485, -1.227222866542985, 3.0],\n [-0.4646138074364462, -2.2927334565693727, 0.0],\n [-0.8478402245438347, -2.8816522223875918, 0.0],\n [-1.7689236637440662, -2.952300826737076, 0.0],\n [-0.6715551829197699, -1.0761949043122372, 0.0],\n [1.887995113603254, -0.2103222925969801, 3.0],\n [-0.22108558174673096, 0.4422661484014222, 3.0],\n [3.4367032284167522, -1.6721186656356881, 1.0],\n [1.441690035873716, -1.943868417076791, 3.0],\n [1.9107174454523934, -0.19274783818339003, 3.0],\n [-2.3524235058448477, -1.7092379314627055, 0.0],\n [-0.01128877108661308, -1.7196620733980024, 5.0],\n [2.013852809421923, 1.3673431027829568, 1.0],\n [-0.3127617883510887, -1.6900161721704552, 0.0],\n [-0.7695934393420442, -0.8444517793449837, 0.0],\n [-2.535554125096198, -1.9810293279231859, 1.0],\n [1.5592591496554047, 1.8325099176833695, 0.0],\n [2.233991016219901, 0.10796697887048504, 2.0],\n [-0.26992674337713907, -2.169000538580078, 0.0],\n [1.4095030934400437, -2.262886731824503, 0.0],\n [-1.4979266044226165, -3.1625234731669742, 2.0],\n [2.654558827729774, -0.45719205020249776, 0.0],\n [-1.1084720145294635, -0.7500905669714761, 0.0],\n [0.042009664784154105, -1.9130836634334116, 2.0],\n [2.4778752873572807, -0.2584010351301338, 0.0],\n [1.766320355292057, -2.520413573379064, 0.0],\n [-2.383450899176867, -2.6467530733674485, 0.0],\n [-1.2524673011669645, -3.137862904510013, 2.0],\n [3.5353458640555937, -1.8258185174785695, 2.0],\n [2.8776100853202835, -2.6425249120110736, 0.0],\n [-1.0415614688789345, -0.5244834854162801, 0.0],\n [0.3875830690340657, 2.0429606976534815, 0.0],\n [-1.3424161694108008, -0.6097836079278496, 0.0],\n [-0.48035191584518544, 0.58714744355161, 0.0],\n [3.8081208666517234, -1.3644063414324488, 1.0],\n [-2.4499681492558816, -1.1959675886445043, 0.0],\n [-0.764329999729795, 0.2812022585937177, 0.0],\n [-0.9584428544125155, -3.227761519857614, 0.0],\n [3.470898533459527, -0.4969795442527014, 0.0],\n [1.967680572881423, 2.0866279643124446, 1.0],\n [3.2726198151034938, -0.13283018497377164, 1.0],\n [-0.37765720379501566, -2.9122424637828077, 0.0],\n [2.6470259278482864, 0.3637230839290828, 1.0],\n [-0.15758421597529426, 1.826959984254261, 0.0],\n [0.36910163949668245, -2.316632451828649, 0.0],\n [2.200252995148099, 2.444456318373491, 1.0],\n [1.1682928819325873, 2.496188890261199, 0.0],\n [2.719628664131167, 0.6459608634652979, 0.0],\n [2.5976161034754894, -3.03723402397871, 0.0],\n [4.144285060669871, -1.746018955165467, 0.0],\n [-4.194102143630639, -4.8127697456861505, 60.0],\n [-4.194102143630639, -4.8127697456861505, 61.0],\n [-4.194102143630639, -4.8127697456861505, 61.0],\n [-4.194102143630639, -4.8127697456861505, 61.0],\n [-4.194102143630639, -4.8127697456861505, 61.0],\n [-4.194102143630639, -4.8127697456861505, 61.0],\n [-4.194102143630639, -4.8127697456861505, 61.0],\n [-4.194102143630639, -4.8127697456861505, 61.0],\n [-4.194102143630641, -4.812769745686149, 47.0],\n [-4.194102143630639, -4.8127697456861505, 61.0],\n [-4.194102139844471, -4.812769669580624, 32.0],\n [-4.194102143630735, -4.812769745686246, 41.0],\n [-4.194102143630639, -4.8127697456861505, 58.0],\n [-4.194102139632657, -4.812769669595083, 32.0],\n [-4.1941021436306425, -4.812769745686191, 43.0],\n [-4.194102143630639, -4.8127697456861505, 58.0],\n [-4.1941021436307615, -4.812769745686236, 41.0],\n [-4.194102143630643, -4.812769745686284, 41.0],\n [-4.1941021396509095, -4.812769669407285, 30.0],\n [-4.194102143630696, -4.812769745686293, 41.0],\n [-4.194102143763932, -4.812769745628145, 31.0],\n [-4.194102143630653, -4.812769745686286, 41.0],\n [-3.82612442608155, -4.601927421760359, 28.0],\n [-4.194102143630639, -4.8127697456861505, 57.0],\n [-4.194102143630711, -4.8127697456863014, 41.0],\n [-4.194102143630666, -4.812769745686294, 41.0],\n [-3.8261244257095233, -4.60192742294007, 34.0],\n [-4.194102143630639, -4.8127697456861505, 57.0],\n [-3.826124425708141, -4.601927422947476, 34.0],\n [-4.194102143769779, -4.812769745689188, 31.0],\n [-4.1941021436306265, -4.8127697456863, 41.0],\n [-2.4720731168680308, -5.694539883324358, 14.0],\n [-3.3857253450823666, -6.214311309931512, 14.0],\n [-4.194102144140358, -4.812769745269698, 29.0],\n [-3.826124425400122, -4.601927421641647, 28.0],\n [-4.194102145890945, -4.812769746158253, 27.0],\n [-3.5428031872264834, -6.041484499804577, 6.0],\n [-4.194102144193236, -4.812769745490655, 29.0],\n [-2.4782529548530174, -5.475432966353079, 15.0],\n [-4.19410216168225, -4.812769671829868, 24.0],\n [-2.808097968217684, -5.781123617872353, 9.0],\n [-4.039971989747176, -6.281803132182027, 18.0],\n [-3.8261244239550436, -4.601927419111449, 26.0],\n [-3.3856391545079583, -6.2143415639881585, 12.0],\n [-2.8203711813794525, -5.101270565782964, 11.0],\n [-4.315455154697794, -5.344937277413079, 17.0],\n [-4.194102279802385, -4.812769537645625, 21.0],\n [-2.7658653921287932, -6.4984970716342705, 9.0],\n [-3.8261226674062305, -4.601926887876488, 20.0],\n [-3.6169969356332903, -6.580140124224326, 9.0],\n [-2.544032918905297, -6.073281634199342, 3.0],\n [-3.8261159073607045, -4.6019202140787945, 15.0],\n [-3.0713558546452853, -4.62541599247967, 4.0],\n [-2.6738948750095606, -5.16123601316045, 5.0],\n [-4.211400474227572, -5.782731385352083, 6.0],\n [-3.3354935413703872, -6.378820709366368, 3.0],\n [-3.029220861111946, -6.506854290143641, 3.0],\n [-3.826134660363209, -4.601894140578568, 13.0],\n [-2.6697399680796936, -4.714865031467108, 4.0],\n [-4.319289959000939, -5.3447437039819405, 6.0],\n [-3.4691740044361543, -4.598877726549478, 2.0],\n [-4.361766503905244, -5.4106979844562755, 3.0],\n [-3.082676948092124, -6.779102383928658, 5.0],\n [-2.468839555657846, -4.946918578717825, 4.0],\n [-4.207694251839933, -6.337302093721554, 2.0],\n [-2.2957301847041545, -5.769017245874193, 2.0],\n [-2.2133855990299227, -6.077601474835449, 0.0],\n [-2.4266588708759427, -5.0514329093598365, 4.0],\n [-4.411900942395089, -5.070148558348247, 1.0],\n [-2.041854636324062, -5.252897241776459, 4.0],\n [-2.335180752329064, -6.473854224729743, 0.0],\n [-2.5337081083645203, -4.479957595661506, 3.0],\n [-3.647761496429633, -4.327475770703854, 1.0],\n [-3.727968367749661, -7.011724793920029, 0.0],\n [-4.30867530259575, -6.5417789105964586, 0.0],\n [-1.9657386623540067, -6.066431758119736, 0.0],\n [-3.8905131856332806, -4.4255657818651155, 2.0],\n [-3.155571229199928, -6.993371430205545, 0.0],\n [-2.1597748311004517, -4.913183562723008, 0.0],\n [-2.671414731535362, -4.2578858738910235, 0.0],\n [-2.0266478456425383, -5.260999523597597, 4.0],\n [-2.968356175321941, -4.143357340265804, 0.0],\n [-4.755543604393954, -5.322845747582999, 0.0],\n [-3.615190720049325, -4.128253815690149, 2.0],\n [-4.810171659725361, -5.862632133140325, 0.0],\n [-3.3653443221115267, -7.171467293084914, 0.0],\n [-2.8966380788006956, -7.352891308812438, 1.0],\n [-2.1697776738500387, -6.6946109870351975, 0.0],\n [-5.0203571715727735, -5.99759539194405, 0.0],\n [-1.9627217332390845, -4.697063823238537, 0.0],\n [-1.6683740516290333, -5.6422792234947625, 0.0],\n [-4.917367319903924, -5.064749394919603, 0.0],\n [-1.733447701488969, -6.326899508670399, 0.0],\n [-1.6091615585991588, -5.289067950473964, 0.0],\n [-4.673170523854554, 9.631810069194946, 40.0],\n [-4.673170523854523, 9.631810069194868, 41.0],\n [-4.67317052385448, 9.631810069194955, 41.0],\n [-4.673170523854477, 9.631810069194929, 41.0],\n [-4.673170523853766, 9.631810069195271, 38.0],\n [-4.673170523854353, 9.63181006919496, 40.0],\n [-4.673170523843071, 9.63181006922169, 33.0],\n [-4.673170523854225, 9.631810069195183, 39.0],\n [-4.673170523853599, 9.631810069195033, 38.0],\n [-3.6561442293715265, 9.655988665028236, 33.0],\n [-4.673170228796536, 9.631810499871367, 20.0],\n [-4.673170523854516, 9.631810069194856, 41.0],\n [-4.673170523854134, 9.631810069194188, 38.0],\n [-4.673170523918728, 9.631810069431644, 30.0],\n [-4.673170331154786, 9.631810300196486, 21.0],\n [-4.673170523899394, 9.631810069443858, 30.0],\n [-4.673170521282829, 9.63181007122152, 27.0],\n [-4.673170521267652, 9.631810071223766, 27.0],\n [-4.67317054785121, 9.631810266659222, 21.0],\n [-4.673170524286256, 9.631810073242123, 26.0],\n [-4.673170322139223, 9.63181028008376, 21.0],\n [-3.6561442294610114, 9.655988664754751, 31.0],\n [-3.656144305635528, 9.65598878287547, 29.0],\n [-4.673170527280099, 9.631810064858069, 27.0],\n [-4.6731789537661035, 9.631814741761941, 15.0],\n [-3.656144229497473, 9.655988664759406, 31.0],\n [-4.673171640589997, 9.631814424219415, 16.0],\n [-4.019229211877239, 8.501316969086899, 28.0],\n [-4.673177938278246, 9.631816562487774, 15.0],\n [-3.656144305542181, 9.655988782947968, 29.0],\n [-4.67317751658662, 9.631817608471275, 15.0],\n [-3.6561443059907672, 9.655988782497097, 31.0],\n [-4.657701761058393, 9.703285223136326, 15.0],\n [-3.6561442276039067, 9.655988664140342, 27.0],\n [-4.6732046914562115, 9.631751472340873, 13.0],\n [-3.6561443239287748, 9.655987097774842, 20.0],\n [-4.405863874541405, 10.262137088456914, 17.0],\n [-4.019229159781403, 8.501316934371593, 22.0],\n [-3.6561289747202164, 9.655990226563992, 14.0],\n [-3.5723775633809938, 9.038090556070191, 8.0],\n [-3.6561431056993916, 9.655988753402633, 18.0],\n [-3.3086295075393384, 9.800282958213195, 14.0],\n [-4.674109178408018, 9.631769182369895, 8.0],\n [-5.157149812051241, 9.050337021960527, 16.0],\n [-3.6561562329030597, 9.656065763657786, 14.0],\n [-4.0192004715658465, 8.50132031741045, 24.0],\n [-4.405884224774873, 10.262173002104683, 13.0],\n [-3.308620943088429, 9.800259501347835, 13.0],\n [-3.3086138950670794, 9.800263014850884, 13.0],\n [-3.3086092810503835, 9.800266044110025, 13.0],\n [-4.080558058112343, 10.238162917620508, 3.0],\n [-4.018133071918072, 8.50162154200599, 15.0],\n [-4.0181329998763395, 8.50162136702082, 15.0],\n [-4.405834322474647, 10.262157993052643, 13.0],\n [-3.7464466540086994, 10.33851839388947, 11.0],\n [-3.3351652579179762, 9.43215139811191, 15.0],\n [-4.927791722567246, 10.01271192945487, 13.0],\n [-4.927879100195469, 10.012939005447409, 11.0],\n [-4.741225826214563, 8.957178935711958, 3.0],\n [-4.009549603777124, 8.503823920906576, 11.0],\n [-4.927867531077627, 10.0130332903654, 11.0],\n [-4.019297900409333, 8.501209104943472, 11.0],\n [-4.0192375128784175, 8.501202104834213, 11.0],\n [-3.3354134052350886, 9.430796617728731, 10.0],\n [-4.709016190394236, 10.27447337896838, 3.0],\n [-4.568317645999433, 8.603195880226185, 2.0],\n [-3.334713662091504, 9.432114367806314, 9.0],\n [-4.932671927327924, 10.011336514144844, 6.0],\n [-5.297149776086599, 9.372695766154688, 2.0],\n [-4.348208153128127, 8.511746034478685, 7.0],\n [-4.709754069266424, 8.65734000568289, 4.0],\n [-3.7051702873869363, 8.564089755807696, 1.0],\n [-3.87085499003343, 10.60325589396405, 5.0],\n [-5.040057563610325, 8.632538795839107, 2.0],\n [-3.3437529985594985, 10.091514578803292, 0.0],\n [-5.388168312356146, 9.774703169728738, 5.0],\n [-4.725311666116571, 10.460744478977903, 2.0],\n [-5.314050801950158, 10.154746540244055, 7.0],\n [-3.371850295770786, 8.582929712987703, 1.0],\n [-5.362217772195354, 9.05345676001834, 2.0],\n [-3.1063148212282323, 10.123488751048708, 1.0],\n [-4.647592848348048, 8.313100122182675, 0.0],\n [-3.0280852480258282, 9.350623044253574, 1.0],\n [-3.4417510778256264, 10.579208663375912, 1.0],\n [-3.564853066357601, 8.289993299319805, 2.0],\n [-2.9851210290601427, 9.128357511424493, 2.0],\n [-4.708609551814674, 10.653548200732082, 2.0],\n [-5.2653096065738865, 8.466354089290165, 0.0],\n [-4.20689529871167, 8.078042936839704, 0.0],\n [-2.8360096594313524, 9.465606570759007, 3.0],\n [-5.666566927347821, 9.21924060835391, 0.0],\n [-4.9119051485676914, 10.755354678350084, 0.0],\n [-4.911902319379656, 8.101671820115541, 0.0],\n [-5.3395610972855945, 10.678336930328538, 0.0],\n [-5.7930049861393025, 9.663615141460117, 0.0],\n [-3.163007944533702, 10.711485010438697, 0.0],\n [-5.637410402138908, 8.49949630095712, 1.0],\n [-4.436568228810346, 11.177615869527694, 0.0],\n [-2.921078853580398, 10.451528664397957, 0.0],\n [-3.625068080625226, 11.00393554982824, 0.0],\n [-2.421639119271842, 9.455540930002167, 0.0],\n [-2.9377442860053686, 10.735478535831128, 0.0],\n [5.282305428413355, 3.2113044861850204, 48.0],\n [5.282305428413355, 3.2113044861850204, 49.0],\n [5.2823054284133555, 3.2113044861850204, 49.0],\n [5.2823054284133555, 3.2113044861850213, 48.0],\n [5.2823054284133555, 3.2113044861850204, 49.0],\n [5.2823054284133555, 3.2113044861850213, 48.0],\n [5.282305428413346, 3.211304486185048, 43.0],\n [5.282305428413358, 3.2113044861850257, 46.0],\n [5.282305428413252, 3.211304486185094, 41.0],\n [5.282305428413357, 3.2113044861850257, 46.0],\n [5.2823054284133555, 3.2113044861850204, 48.0],\n [5.282305428413355, 3.2113044861850204, 49.0],\n [5.2823054284133555, 3.2113044861850213, 48.0],\n [5.282305428413283, 3.2113044861851137, 41.0],\n [4.95492056116945, 5.0272392509551445, 31.0],\n [5.734444277393751, 4.823293255413763, 19.0],\n [5.734445020427801, 4.823282040494481, 19.0],\n [4.954920574033732, 5.0272392618094335, 28.0],\n [5.282305428411374, 3.2113044861857754, 37.0],\n [4.672861042770598, 4.279733443977797, 16.0],\n [5.734445729030569, 4.823289566910918, 22.0],\n [5.734445727242361, 4.823289578105641, 22.0],\n [5.282305428413354, 3.2113044861850195, 48.0],\n [5.806030493747344, 4.279680168502502, 13.0],\n [5.2823055855552035, 3.2113044525422527, 22.0],\n [5.282305427990918, 3.2113044857592294, 29.0],\n [5.2823054276977395, 3.2113044854193467, 28.0],\n [5.806121426993569, 4.279712882984747, 11.0],\n [4.954920575747089, 5.027239263087887, 27.0],\n [4.954920581009192, 5.027239264736959, 25.0],\n [5.282305427766248, 3.211304485232877, 28.0],\n [5.806065131943778, 4.279634383630703, 12.0],\n [5.8060689296115315, 4.279631170875589, 12.0],\n [4.672824780538097, 4.279580948590143, 12.0],\n [4.9549199705628855, 5.027238930727604, 21.0],\n [4.954919812064439, 5.027238438377395, 21.0],\n [4.970484941469925, 5.032633192985137, 20.0],\n [4.672819297545956, 4.279580779304673, 12.0],\n [5.564864361752063, 3.707185716936694, 12.0],\n [5.806061425167426, 4.279604826239319, 12.0],\n [4.849446968955478, 3.610973319252287, 18.0],\n [4.67273724809293, 4.279578799849249, 11.0],\n [4.95491911352755, 5.027239394532175, 18.0],\n [4.954919208452721, 5.027239615189172, 18.0],\n [4.970484968013612, 5.032633536048219, 19.0],\n [5.282982444143043, 3.2112650418791366, 15.0],\n [4.970484972441044, 5.0326336371286, 19.0],\n [4.954916983053042, 5.027241752990733, 16.0],\n [4.970484833461638, 5.03263356416535, 19.0],\n [4.66140706706439, 3.6937915601070763, 10.0],\n [5.282827204530625, 3.210831406022953, 10.0],\n [4.165835355429654, 3.953985747380602, 10.0],\n [6.066893910285029, 4.431439879024817, 5.0],\n [6.033187978465199, 3.838799168392705, 7.0],\n [4.970485009745369, 5.032652212929916, 14.0],\n [4.970347249172631, 5.032698304157709, 13.0],\n [4.970456225845142, 5.032659690317815, 15.0],\n [4.844992082531966, 4.897387848725286, 8.0],\n [4.970448056744285, 5.0327595643932, 11.0],\n [5.043885494846492, 3.388072035034353, 6.0],\n [4.2235365606543125, 4.543190515628009, 3.0],\n [5.640432256179939, 3.3228616568225333, 8.0],\n [4.270498521728822, 4.284604516601809, 1.0],\n [5.990782591153035, 4.86554105158698, 7.0],\n [5.669954916168134, 3.3397429575121134, 6.0],\n [5.442598690157357, 5.114661761589552, 4.0],\n [4.663339975585437, 5.126606550864013, 4.0],\n [4.761425528565294, 3.4919056800938986, 3.0],\n [4.165516805794072, 3.952928566018856, 8.0],\n [4.171639361748286, 3.644021199762598, 7.0],\n [5.7718219909725565, 5.097552997783142, 3.0],\n [6.367022984319897, 3.808195993064962, 5.0],\n [5.75997779712642, 3.3723347507598795, 4.0],\n [5.042333260920729, 5.384793217863096, 0.0],\n [6.271183015435029, 4.782901885627815, 0.0],\n [4.378694395910388, 3.3053534167429635, 4.0],\n [6.492867952907672, 4.592053084481909, 1.0],\n [4.7438917260819435, 5.508221007048535, 1.0],\n [6.0048815690766215, 3.3720672349726266, 2.0],\n [3.8655533814625547, 4.519478742391291, 2.0],\n [4.197924307148151, 4.903677022910024, 1.0],\n [5.441163044988619, 5.660459488972064, 1.0],\n [6.015679922210852, 5.204178871873045, 0.0],\n [6.402761140039258, 3.5632069074890422, 2.0],\n [5.903354339420602, 5.410965218666359, 0.0],\n [3.948907006840272, 5.175516397093423, 2.0],\n [3.9694898108404746, 3.6512455180135897, 2.0],\n [3.919365464197182, 3.2992101663418407, 0.0],\n [5.317721283298031, 2.704989596155083, 0.0],\n [6.774352045782642, 4.2117870070919, 0.0],\n [3.6058796484565425, 4.063642248532665, 0.0],\n [6.1177162859852094, 2.763463288985566, 1.0],\n [6.553946421090057, 3.2640105680558493, 0.0],\n [4.772217188843152, 5.971804222361811, 0.0],\n [4.276968708517447, 2.807779367843975, 0.0],\n [7.092113963402094, 4.453392930762375, 0.0],\n [6.520640012125932, 9.223124248058143, 47.0],\n [6.520640012125956, 9.223124248058188, 49.0],\n [6.520640012125956, 9.223124248058188, 49.0],\n [6.520640012125956, 9.223124248058188, 49.0],\n [6.520640012125932, 9.223124248058141, 48.0],\n [6.520640012125932, 9.223124248058141, 48.0],\n [6.520640012126656, 9.223124248059449, 42.0],\n [6.5206400121259325, 9.223124248058143, 48.0],\n [6.520640012126671, 9.223124248059454, 42.0],\n [8.214781874902332, 9.496979785239704, 41.0],\n [8.214781874801657, 9.496979785436688, 30.0],\n [6.520640012126704, 9.223124248059428, 42.0],\n [6.5206400121259325, 9.223124248058141, 48.0],\n [6.5206400121259325, 9.223124248058143, 48.0],\n [8.21478187484881, 9.49697978534703, 35.0],\n [8.214781874922842, 9.49697978526903, 33.0],\n [6.520640012125928, 9.223124248058136, 45.0],\n [8.214781874848622, 9.496979785346905, 35.0],\n [8.214781874743029, 9.496979785397619, 31.0],\n [6.520640012125934, 9.223124248058134, 45.0],\n [7.105939613189005, 9.706911467916871, 13.0],\n [8.214781874867622, 9.49697978536733, 33.0],\n [8.214781879415355, 9.496979782324033, 27.0],\n [6.520640012125929, 9.223124248058134, 45.0],\n [6.520640012125938, 9.223124248058136, 45.0],\n [8.214781874893685, 9.496979785450224, 31.0],\n [6.52064001212592, 9.22312424805813, 44.0],\n [6.52064001206533, 9.22312424803538, 32.0],\n [7.93191082866039, 8.764384964023701, 22.0],\n [6.520640012125931, 9.223124248058134, 45.0],\n [6.520639909985697, 9.2231241354286, 21.0],\n [6.520639910095227, 9.223124110092712, 21.0],\n [7.106037735698203, 9.70691377111903, 16.0],\n [6.520640012123407, 9.223124248049794, 37.0],\n [6.520640012124808, 9.223124248050713, 40.0],\n [8.214781985802261, 9.496979771984106, 21.0],\n [6.520640012075219, 9.223124248008654, 32.0],\n [8.214781312284757, 9.496982154926965, 21.0],\n [8.214781342107205, 9.496982037251612, 22.0],\n [7.105964022632577, 9.706932527579166, 14.0],\n [8.214781357303409, 9.496982273689378, 20.0],\n [7.9319174746717565, 8.764393609951991, 15.0],\n [6.5206350713969945, 9.223122308746694, 16.0],\n [7.105966752558583, 9.706932553107418, 14.0],\n [7.105962700170222, 9.706933234489568, 14.0],\n [8.214787565116783, 9.496973001753336, 15.0],\n [7.9319256056642935, 8.76439270051145, 14.0],\n [7.771716145255947, 9.877779629672725, 7.0],\n [7.798583743312935, 8.359785014141673, 23.0],\n [7.102246863680159, 9.706240562923679, 7.0],\n [8.214790376880782, 9.49696536824775, 14.0],\n [8.211755217447646, 9.47709872904752, 11.0],\n [6.520631588497132, 9.223125753553125, 15.0],\n [7.931907586391802, 8.764380108602467, 18.0],\n [7.43933031981336, 10.265600700591584, 12.0],\n [7.1967651093356695, 10.176122827253904, 8.0],\n [7.030232514936191, 8.744143288203972, 6.0],\n [6.943381317484311, 9.99016587912635, 8.0],\n [6.414280419864433, 9.635234494398464, 11.0],\n [6.414166258426487, 9.633018392411241, 12.0],\n [8.224578760888669, 9.955711726835638, 8.0],\n [8.212223332100693, 9.476199011688545, 8.0],\n [7.936751903742012, 8.763156102986216, 6.0],\n [8.213746578718936, 9.47673309740915, 7.0],\n [8.19149085971647, 10.055435927712935, 10.0],\n [7.579395755122865, 10.381980497561727, 7.0],\n [8.115133862553538, 8.933855183563464, 4.0],\n [7.030098630467315, 8.46106738770095, 0.0],\n [7.806321537244867, 8.361814001196187, 7.0],\n [7.77590842529855, 10.274139883181913, 6.0],\n [8.392871327624121, 9.073268819181836, 5.0],\n [8.022178524377676, 8.562376748851932, 4.0],\n [7.798582021583107, 8.359614058398867, 11.0],\n [6.351357479233969, 9.951243702279932, 8.0],\n [8.238359040658864, 9.962380910863647, 4.0],\n [8.377572221688975, 9.549456406517404, 3.0],\n [6.497363188874978, 8.7123737859397, 2.0],\n [8.418881045979976, 8.747259847612415, 2.0],\n [6.3165897614252815, 9.00414072798057, 1.0],\n [6.665644887005538, 10.04363308756346, 4.0],\n [7.518159160145598, 8.12684007564945, 4.0],\n [6.725891665939745, 10.372993178927231, 5.0],\n [7.682161868102559, 10.55778881749155, 4.0],\n [8.324968921307093, 10.433997277532567, 1.0],\n [8.459183488439452, 8.447458092845388, 4.0],\n [7.524999988457087, 10.636676797272017, 3.0],\n [5.942169157837764, 9.596527131600723, 2.0],\n [6.418091063425564, 10.184472423673371, 0.0],\n [8.599970008538413, 10.159525173826736, 2.0],\n [7.133210719477391, 10.596344801215759, 0.0],\n [8.883998779463807, 9.202696949761433, 1.0],\n [6.435893402135788, 8.52463393267415, 2.0],\n [8.707943700456136, 8.864957226042648, 0.0],\n [6.7796838251437785, 10.610702230436937, 0.0],\n [6.027375201796213, 9.879528643119725, 0.0],\n [8.417154036009457, 8.157689397142748, 3.0],\n [6.479475249916728, 10.531487413107557, 0.0],\n [8.625249265042413, 10.393962813481417, 0.0],\n [7.0018843546221605, 10.919344325791535, 0.0],\n [6.241663524352327, 10.482094816265787, 0.0],\n [6.565476385908871, 7.969709103119071, 0.0],\n [8.729450106447398, 8.391473738228163, 0.0],\n [7.940926928566018, 7.468249386328729, 0.0],\n [6.633979474315332, 0.622708495021256, 38.0],\n [6.633979474314343, 0.6227084950210537, 40.0],\n [6.633985080203367, 0.622718380485092, 30.0],\n [6.633979474315471, 0.6227084950211247, 39.0],\n [6.633979474315426, 0.6227084950209076, 39.0],\n [6.633979474315553, 0.6227084950210824, 39.0],\n [6.633979474315657, 0.6227084950214352, 39.0],\n [6.633985080323487, 0.622718380458902, 30.0],\n [6.633979474308417, 0.6227084950176361, 36.0],\n [6.633979474316105, 0.6227084950215515, 38.0],\n [6.633979473948854, 0.6227084937967748, 29.0],\n [6.633985078563818, 0.6227183990849422, 26.0],\n [7.006203982594853, 1.1886870193758796, 22.0],\n [6.633985079496815, 0.6227183974786585, 26.0],\n [6.633985078528108, 0.6227183996171375, 26.0],\n [6.633985075986608, 0.6227183993079541, 26.0],\n [6.63398507803532, 0.6227183986075131, 26.0],\n [6.633985080329168, 0.6227183952792791, 26.0],\n [6.633985034329101, 0.6227184540139641, 22.0],\n [6.633979473616246, 0.6227084944920316, 32.0],\n [6.633979473609691, 0.6227084945117349, 32.0],\n [6.633979527922739, 0.6227082165309554, 20.0],\n [6.633979474316148, 0.6227084950211264, 38.0],\n [6.633985079154995, 0.622718399299149, 26.0],\n [7.8489571500088955, 0.1651427007973707, 16.0],\n [6.633984631440992, 0.6227183596766452, 20.0],\n [6.633979496860758, 0.6227083825453512, 22.0],\n [6.633985079979163, 0.6227183986256992, 26.0],\n [7.006637496111598, 1.189887462550511, 19.0],\n [7.006206879970778, 1.18868957871515, 20.0],\n [7.848957727235883, 0.1651363128163133, 15.0],\n [7.3460336870027545, -0.1600929794284488, 19.0],\n [8.02594599628392, 1.186899992194319, 25.0],\n [6.556431391466666, 0.4421217739945662, 18.0],\n [7.848999164742834, 0.16520594772840874, 14.0],\n [7.346033043033273, -0.16009271676054732, 20.0],\n [8.025945992400553, 1.186900008143235, 24.0],\n [8.025946155310056, 1.1869000679988577, 21.0],\n [7.0695215200217625, -0.035571408948852586, 11.0],\n [8.025945959809853, 1.1869000266983076, 24.0],\n [8.025945992568627, 1.1869000107877985, 24.0],\n [8.270304150773711, 0.6210019048585809, 18.0],\n [7.346035465380178, -0.16010028299839726, 15.0],\n [7.062280029155852, -0.029566859967890376, 9.0],\n [7.566663892786902, 1.4892451846201382, 11.0],\n [7.004356653531763, 1.1903639739695135, 7.0],\n [6.651096094286061, -0.08788650479187651, 11.0],\n [8.270298733328948, 0.6212979337859917, 14.0],\n [7.56650096110433, 1.4893122016732865, 10.0],\n [8.265313399153179, 0.6410365470928125, 13.0],\n [6.716889911364111, 1.1160333217838734, 4.0],\n [7.606383640573922, -0.27756106816501286, 8.0],\n [7.268880744935878, 1.8225819587333874, 15.0],\n [6.5527410579565775, 0.48100408709190007, 8.0],\n [8.133955504133382, 0.07966303686017696, 4.0],\n [8.276607627930577, 0.5813054585480462, 6.0],\n [7.0950610155081915, 1.4814675114531006, 4.0],\n [6.542102375112513, 0.8779286213426081, 2.0],\n [6.654551302452004, -0.09271322276856792, 8.0],\n [8.143322186020036, -0.1314741682191803, 5.0],\n [8.227907747705872, 1.1550643414664026, 3.0],\n [6.643095993698385, -0.09397922271626441, 5.0],\n [6.409708294660309, 0.12690269248733715, 3.0],\n [6.713410101764664, 1.3915520111870812, 1.0],\n [6.970964022131231, -0.30493694710574737, 1.0],\n [6.243125863316019, 1.233828686825222, 2.0],\n [8.532437524185571, 0.49391816555727963, 1.0],\n [6.295352501217526, 0.6175493283990598, 4.0],\n [7.628110664382451, -0.4953901337343991, 2.0],\n [7.700377133308672, 1.7754502215622003, 5.0],\n [7.257554530626409, -0.5978192073858399, 1.0],\n [6.218623488124502, 0.9339236451326733, 0.0],\n [8.139313398077292, 1.5044288096901601, 6.0],\n [7.266705887928976, 1.824805364144777, 7.0],\n [8.372040179612618, 1.07188817232948, 4.0],\n [6.6542954015136235, -0.36789094575308023, 4.0],\n [6.657090660063874, 1.757368738216039, 1.0],\n [8.457881657456976, -0.05902945910690869, 4.0],\n [8.229168990757216, -0.3011589696374316, 2.0],\n [8.808312332338925, 0.3201601845971267, 2.0],\n [7.7708417180946165, -0.7026972590902948, 3.0],\n [6.127843538450163, 0.45482764503723117, 2.0],\n [8.424072674268182, 1.5377132553582906, 0.0],\n [8.798724387423471, 0.8004693127871612, 0.0],\n [6.5898765655268186, 1.9446350611786214, 2.0],\n [5.846499320156615, 0.9083082318268325, 1.0],\n [8.306059666443415, 1.8608483501610549, 0.0],\n [5.829198769982114, 0.5938283927685593, 0.0],\n [8.791126518011243, 1.7523415583113036, 1.0],\n [7.25994911097532, 2.4229377677552395, 0.0],\n [8.082344537677365, -1.119812818478126, 0.0],\n [8.443581093995387, -1.217739205657412, 0.0],\n [8.783896527155507, -0.36129600461139966, 0.0],\n [-4.367811558449024, -9.910386179141456, 46.0],\n [-4.367811558449023, -9.910386179141456, 47.0],\n [-4.3678115584490245, -9.910386179141458, 47.0],\n [-4.3678115584490245, -9.910386179141458, 47.0],\n [-4.367811558449025, -9.910386179141454, 47.0],\n [-4.3678115584490245, -9.910386179141458, 47.0],\n [-4.367811558449054, -9.910386179141458, 43.0],\n [-4.367811558449056, -9.910386179141462, 43.0],\n [-4.367811558449024, -9.910386179141458, 47.0],\n [-4.3678115584490245, -9.910386179141458, 47.0],\n [-4.36781155844904, -9.910386179141451, 44.0],\n [-4.3678115584490556, -9.910386179141454, 43.0],\n [-4.367811558448748, -9.910386179141547, 41.0],\n [-4.3678115584490245, -9.910386179141458, 47.0],\n [-5.378144450628479, -10.876151033421813, 32.0],\n [-4.3678115584490245, -9.910386179141454, 47.0],\n [-6.2033372660278845, -9.246633954125361, 35.0],\n [-6.2033372543821095, -9.246633978180615, 35.0],\n [-4.367811558449031, -9.910386179141444, 44.0],\n [-4.367811558449026, -9.910386179141444, 44.0],\n [-4.367811558448886, -9.910386179141728, 40.0],\n [-5.619988948825641, -8.685842168135814, 33.0],\n [-4.367811558449098, -9.910386179136545, 36.0],\n [-5.378144450628215, -10.876151033618484, 30.0],\n [-4.367811558475241, -9.910386179086576, 33.0],\n [-5.378144450623261, -10.876151033624147, 30.0],\n [-4.367811558449021, -9.910386179136477, 36.0],\n [-5.378144450524351, -10.876151033612548, 30.0],\n [-6.203337254280283, -9.24663397925746, 29.0],\n [-5.378144450631682, -10.876151033641111, 30.0],\n [-5.378144451330095, -10.87615103412325, 28.0],\n [-6.203337254725859, -9.246633978192177, 30.0],\n [-4.3678115542228975, -9.91038617836452, 27.0],\n [-5.378144450405443, -10.876151037134946, 26.0],\n [-4.367813730783309, -9.910364440155846, 21.0],\n [-5.341231977804499, -10.52205383846696, 15.0],\n [-5.4847162456135745, -10.16879404305791, 6.0],\n [-5.816293931066557, -10.121218891744746, 10.0],\n [-4.367813679885722, -9.910364461567227, 21.0],\n [-4.367813685434978, -9.910364447182516, 21.0],\n [-4.367813655231192, -9.910364475546146, 21.0],\n [-6.203337269173329, -9.246633964579722, 26.0],\n [-4.367813692007513, -9.910364436382121, 21.0],\n [-6.203337280074537, -9.246633962666673, 24.0],\n [-6.203337267798949, -9.246633953688265, 27.0],\n [-6.203337280804941, -9.246633964465985, 24.0],\n [-5.619988886779016, -8.685842133603966, 24.0],\n [-6.203337280421035, -9.246633963040578, 24.0],\n [-6.2033372819132815, -9.246633957161107, 24.0],\n [-6.203337282269002, -9.246633955377815, 24.0],\n [-4.714343611743801, -10.301428715313847, 4.0],\n [-4.966372331917059, -8.98934063385197, 8.0],\n [-4.957699853531791, -8.993956330263629, 13.0],\n [-5.961970428633505, -9.763462608628428, 8.0],\n [-6.203442776113364, -9.246670825879956, 16.0],\n [-5.1561229900731895, -10.539746226847928, 7.0],\n [-4.572904212377797, -9.531614991939028, 9.0],\n [-6.338705113535351, -10.133124349406646, 12.0],\n [-4.966085455310223, -8.987756081493565, 7.0],\n [-5.894177961910833, -10.269833365161109, 3.0],\n [-5.636969872764617, -10.53010623556445, 0.0],\n [-4.915392824095088, -10.742822168487933, 8.0],\n [-5.0209615842144135, -8.849317672803156, 5.0],\n [-5.619976698087717, -8.685756725232888, 12.0],\n [-4.396202697475069, -10.03888845259559, 5.0],\n [-6.336707462881767, -9.523248490891064, 6.0],\n [-6.339622768362542, -10.132187371971451, 8.0],\n [-4.395565574078601, -8.993056815318305, 5.0],\n [-6.339681745101296, -10.132325458045317, 8.0],\n [-5.1071276386904145, -8.799569665900975, 4.0],\n [-5.622424043315625, -8.685082181177805, 7.0],\n [-5.757179123269551, -10.751813090271739, 0.0],\n [-5.407009550992429, -10.897992550020419, 4.0],\n [-5.611210704163287, -8.678832976346143, 6.0],\n [-6.052120409070637, -8.945544975978049, 2.0],\n [-4.410656928853134, -8.958984702233735, 8.0],\n [-4.555414182576562, -8.902689531303555, 4.0],\n [-6.309076506769674, -10.352181888441242, 2.0],\n [-4.247721329049472, -9.73211819842911, 2.0],\n [-4.148570381176203, -10.273535151438756, 1.0],\n [-6.105717879322342, -10.630482359382498, 0.0],\n [-5.370286649919058, -8.464432968362209, 4.0],\n [-4.363296957796099, -10.656605934847018, 1.0],\n [-6.259868038589627, -9.01883226808533, 3.0],\n [-6.581424265268415, -9.686926348822068, 2.0],\n [-5.98671995118971, -10.815711804087258, 0.0],\n [-4.164247173326722, -9.884434991958104, 3.0],\n [-4.951157622438113, -8.53657602500209, 0.0],\n [-6.0190472940297735, -8.57042678056202, 0.0],\n [-4.548378389185874, -8.873613004610846, 3.0],\n [-5.748761469476269, -8.535527200363875, 2.0],\n [-3.999211420405109, -9.212744789700274, 1.0],\n [-6.7537870739707255, -9.267397586115848, 1.0],\n [-4.839129405023761, -11.22972281434673, 0.0],\n [-6.01783538683589, -11.183271043963599, 2.0],\n [-4.268589318172654, -8.640255838244103, 0.0],\n [-5.1803306092072425, -11.266025709317752, 0.0],\n [-6.879679986491752, -9.773560884351403, 0.0],\n [-6.946660588300485, -9.289360773397604, 2.0],\n [-3.746857800551229, -10.019249077192404, 0.0],\n [-3.768321475560751, -8.720833336674499, 0.0],\n [-6.94485850572045, -10.3287857592142, 0.0],\n [-7.253703260386818, -10.034035584396758, 0.0],\n [-3.4787765091764182, -9.756435229612002, 0.0],\n [2.9438784563658285, 0.8621686365015571, 2.0]]"
     },
     "execution_count": 540,
     "metadata": {},
     "output_type": "execute_result"
    }
   ],
   "source": [
    "all_data = []\n",
    "for i in range(m.labels_.max() + 1):\n",
    "    dens_value = dict(sorted(calculate_member_core_point(cluster_value, i).items(), reverse=True))\n",
    "    all_data.append(compress_data(dens_value))\n",
    "\n",
    "result = []\n",
    "for i, vi in enumerate(all_data):\n",
    "    for j, vj in enumerate(vi):\n",
    "        result.append(vj)\n",
    "\n",
    "result"
   ],
   "metadata": {
    "collapsed": false,
    "pycharm": {
     "name": "#%%\n"
    }
   }
  },
  {
   "cell_type": "code",
   "execution_count": 541,
   "outputs": [
    {
     "data": {
      "text/plain": "array([[  0.79664718,   0.53878332,  10.        ],\n       [  0.49075551,  -0.60320443,   8.        ],\n       [  2.38318566,  -1.65779657,   4.        ],\n       ...,\n       [ -7.25370326, -10.03403558,   0.        ],\n       [ -3.47877651,  -9.75643523,   0.        ],\n       [  2.94387846,   0.86216864,   2.        ]])"
     },
     "execution_count": 541,
     "metadata": {},
     "output_type": "execute_result"
    }
   ],
   "source": [
    "arrays_dens = np.array(result)\n",
    "arrays_dens"
   ],
   "metadata": {
    "collapsed": false,
    "pycharm": {
     "name": "#%%\n"
    }
   }
  },
  {
   "cell_type": "code",
   "execution_count": 542,
   "outputs": [
    {
     "data": {
      "text/plain": "array([[ 0.79664718,  0.53878332, 10.        ],\n       [ 0.49075551, -0.60320443,  8.        ],\n       [ 2.38318566, -1.65779657,  4.        ],\n       ...,\n       [-6.25986804, -9.01883227,  3.        ],\n       [-4.16424717, -9.88443499,  3.        ],\n       [-4.54837839, -8.873613  ,  3.        ]])"
     },
     "execution_count": 542,
     "metadata": {},
     "output_type": "execute_result"
    }
   ],
   "source": [
    "new_dens = arrays_dens[np.where(arrays_dens[:, len(arrays_dens[0, :]) - 1] >= 3)]\n",
    "new_dens"
   ],
   "metadata": {
    "collapsed": false,
    "pycharm": {
     "name": "#%%\n"
    }
   }
  },
  {
   "cell_type": "code",
   "execution_count": 543,
   "outputs": [
    {
     "data": {
      "text/plain": "array([[-1.59824599e+00, -1.89785888e+00,  2.00000000e+00],\n       [ 4.69737054e-01, -1.94835411e-03,  0.00000000e+00],\n       [ 4.82214604e-01,  2.93491214e-01,  0.00000000e+00],\n       [ 1.36724829e+00,  2.39448596e-01,  1.00000000e+00],\n       [ 2.02422122e+00, -1.91900464e+00,  2.00000000e+00],\n       [ 2.02415128e+00, -1.52996391e+00,  1.00000000e+00],\n       [ 6.13238647e-01,  8.14289802e-01,  0.00000000e+00],\n       [ 1.20544128e+00,  4.02269412e-02,  2.00000000e+00],\n       [ 2.75166959e+00, -1.64304184e+00,  2.00000000e+00],\n       [ 2.02631461e+00, -1.35278864e+00,  2.00000000e+00],\n       [ 1.88215031e+00, -1.08840860e+00,  2.00000000e+00],\n       [ 2.15249100e+00, -9.70922325e-01,  0.00000000e+00],\n       [ 1.76171166e+00, -1.39948326e+00,  0.00000000e+00],\n       [ 1.70375702e-01,  2.90032101e-01,  2.00000000e+00],\n       [-7.56628126e-01, -1.82445858e+00,  2.00000000e+00],\n       [ 7.34150060e-01,  1.23115313e+00,  0.00000000e+00],\n       [ 1.51733666e+00,  4.43901398e-01,  2.00000000e+00],\n       [ 8.65522298e-01,  1.45744574e+00,  1.00000000e+00],\n       [ 1.80089570e+00, -1.67881760e+00,  0.00000000e+00],\n       [-1.80600539e+00, -2.43279989e+00,  2.00000000e+00],\n       [-8.53621754e-01, -2.36637506e+00,  2.00000000e+00],\n       [ 3.14452156e-01, -1.12391371e+00,  1.00000000e+00],\n       [ 1.86735599e+00,  9.17304564e-01,  1.00000000e+00],\n       [ 1.76660335e+00,  5.46718007e-01,  0.00000000e+00],\n       [-1.95989311e+00, -1.56810176e+00,  0.00000000e+00],\n       [-9.53687374e-01, -1.41424654e+00,  1.00000000e+00],\n       [ 5.54651479e-01, -1.13071247e+00,  0.00000000e+00],\n       [ 1.54799350e+00, -1.46204791e+00,  0.00000000e+00],\n       [-9.72198946e-01, -1.24724524e+00,  2.00000000e+00],\n       [ 1.57177459e+00, -5.73141443e-01,  1.00000000e+00],\n       [ 1.49642557e+00, -8.97654418e-01,  1.00000000e+00],\n       [ 2.79917683e-01,  1.14348100e+00,  1.00000000e+00],\n       [ 2.94899676e+00, -2.17160353e+00,  1.00000000e+00],\n       [ 1.08520922e+00, -1.18460777e+00,  2.00000000e+00],\n       [-1.66555837e+00, -1.12738721e+00,  1.00000000e+00],\n       [-2.08116480e+00, -2.45038825e+00,  1.00000000e+00],\n       [ 5.69269484e-01,  1.53492164e+00,  0.00000000e+00],\n       [-1.28385031e+00, -2.74467989e+00,  2.00000000e+00],\n       [ 3.21927552e-02,  7.57414314e-01,  1.00000000e+00],\n       [ 2.46229046e+00, -5.87536245e-01,  0.00000000e+00],\n       [-3.61735140e-01,  7.08208870e-02,  0.00000000e+00],\n       [ 1.13807011e+00, -1.14962878e+00,  2.00000000e+00],\n       [-6.64917724e-01, -2.55249027e+00,  1.00000000e+00],\n       [-6.83242252e-01, -1.57385097e+00,  2.00000000e+00],\n       [-1.87228455e+00, -1.27263100e+00,  0.00000000e+00],\n       [ 1.71851187e+00,  1.23936978e-01,  0.00000000e+00],\n       [-2.28022106e+00, -2.30374250e+00,  0.00000000e+00],\n       [ 3.42430828e-01, -1.45452369e+00,  0.00000000e+00],\n       [-5.11484082e-01, -3.14146004e-01,  1.00000000e+00],\n       [-4.64613807e-01, -2.29273346e+00,  0.00000000e+00],\n       [-8.47840225e-01, -2.88165222e+00,  0.00000000e+00],\n       [-1.76892366e+00, -2.95230083e+00,  0.00000000e+00],\n       [-6.71555183e-01, -1.07619490e+00,  0.00000000e+00],\n       [ 3.43670323e+00, -1.67211867e+00,  1.00000000e+00],\n       [-2.35242351e+00, -1.70923793e+00,  0.00000000e+00],\n       [ 2.01385281e+00,  1.36734310e+00,  1.00000000e+00],\n       [-3.12761788e-01, -1.69001617e+00,  0.00000000e+00],\n       [-7.69593439e-01, -8.44451779e-01,  0.00000000e+00],\n       [-2.53555413e+00, -1.98102933e+00,  1.00000000e+00],\n       [ 1.55925915e+00,  1.83250992e+00,  0.00000000e+00],\n       [ 2.23399102e+00,  1.07966979e-01,  2.00000000e+00],\n       [-2.69926743e-01, -2.16900054e+00,  0.00000000e+00],\n       [ 1.40950309e+00, -2.26288673e+00,  0.00000000e+00],\n       [-1.49792660e+00, -3.16252347e+00,  2.00000000e+00],\n       [ 2.65455883e+00, -4.57192050e-01,  0.00000000e+00],\n       [-1.10847201e+00, -7.50090567e-01,  0.00000000e+00],\n       [ 4.20096648e-02, -1.91308366e+00,  2.00000000e+00],\n       [ 2.47787529e+00, -2.58401035e-01,  0.00000000e+00],\n       [ 1.76632036e+00, -2.52041357e+00,  0.00000000e+00],\n       [-2.38345090e+00, -2.64675307e+00,  0.00000000e+00],\n       [-1.25246730e+00, -3.13786290e+00,  2.00000000e+00],\n       [ 3.53534586e+00, -1.82581852e+00,  2.00000000e+00],\n       [ 2.87761009e+00, -2.64252491e+00,  0.00000000e+00],\n       [-1.04156147e+00, -5.24483485e-01,  0.00000000e+00],\n       [ 3.87583069e-01,  2.04296070e+00,  0.00000000e+00],\n       [-1.34241617e+00, -6.09783608e-01,  0.00000000e+00],\n       [-4.80351916e-01,  5.87147444e-01,  0.00000000e+00],\n       [ 3.80812087e+00, -1.36440634e+00,  1.00000000e+00],\n       [-2.44996815e+00, -1.19596759e+00,  0.00000000e+00],\n       [-7.64330000e-01,  2.81202259e-01,  0.00000000e+00],\n       [-9.58442854e-01, -3.22776152e+00,  0.00000000e+00],\n       [ 3.47089853e+00, -4.96979544e-01,  0.00000000e+00],\n       [ 1.96768057e+00,  2.08662796e+00,  1.00000000e+00],\n       [ 3.27261982e+00, -1.32830185e-01,  1.00000000e+00],\n       [-3.77657204e-01, -2.91224246e+00,  0.00000000e+00],\n       [ 2.64702593e+00,  3.63723084e-01,  1.00000000e+00],\n       [-1.57584216e-01,  1.82695998e+00,  0.00000000e+00],\n       [ 3.69101639e-01, -2.31663245e+00,  0.00000000e+00],\n       [ 2.20025300e+00,  2.44445632e+00,  1.00000000e+00],\n       [ 1.16829288e+00,  2.49618889e+00,  0.00000000e+00],\n       [ 2.71962866e+00,  6.45960863e-01,  0.00000000e+00],\n       [ 2.59761610e+00, -3.03723402e+00,  0.00000000e+00],\n       [ 4.14428506e+00, -1.74601896e+00,  0.00000000e+00],\n       [-3.46917400e+00, -4.59887773e+00,  2.00000000e+00],\n       [-4.20769425e+00, -6.33730209e+00,  2.00000000e+00],\n       [-2.29573018e+00, -5.76901725e+00,  2.00000000e+00],\n       [-2.21338560e+00, -6.07760147e+00,  0.00000000e+00],\n       [-4.41190094e+00, -5.07014856e+00,  1.00000000e+00],\n       [-2.33518075e+00, -6.47385422e+00,  0.00000000e+00],\n       [-3.64776150e+00, -4.32747577e+00,  1.00000000e+00],\n       [-3.72796837e+00, -7.01172479e+00,  0.00000000e+00],\n       [-4.30867530e+00, -6.54177891e+00,  0.00000000e+00],\n       [-1.96573866e+00, -6.06643176e+00,  0.00000000e+00],\n       [-3.89051319e+00, -4.42556578e+00,  2.00000000e+00],\n       [-3.15557123e+00, -6.99337143e+00,  0.00000000e+00],\n       [-2.15977483e+00, -4.91318356e+00,  0.00000000e+00],\n       [-2.67141473e+00, -4.25788587e+00,  0.00000000e+00],\n       [-2.96835618e+00, -4.14335734e+00,  0.00000000e+00],\n       [-4.75554360e+00, -5.32284575e+00,  0.00000000e+00],\n       [-3.61519072e+00, -4.12825382e+00,  2.00000000e+00],\n       [-4.81017166e+00, -5.86263213e+00,  0.00000000e+00],\n       [-3.36534432e+00, -7.17146729e+00,  0.00000000e+00],\n       [-2.89663808e+00, -7.35289131e+00,  1.00000000e+00],\n       [-2.16977767e+00, -6.69461099e+00,  0.00000000e+00],\n       [-5.02035717e+00, -5.99759539e+00,  0.00000000e+00],\n       [-1.96272173e+00, -4.69706382e+00,  0.00000000e+00],\n       [-1.66837405e+00, -5.64227922e+00,  0.00000000e+00],\n       [-4.91736732e+00, -5.06474939e+00,  0.00000000e+00],\n       [-1.73344770e+00, -6.32689951e+00,  0.00000000e+00],\n       [-1.60916156e+00, -5.28906795e+00,  0.00000000e+00],\n       [-4.56831765e+00,  8.60319588e+00,  2.00000000e+00],\n       [-5.29714978e+00,  9.37269577e+00,  2.00000000e+00],\n       [-3.70517029e+00,  8.56408976e+00,  1.00000000e+00],\n       [-5.04005756e+00,  8.63253880e+00,  2.00000000e+00],\n       [-3.34375300e+00,  1.00915146e+01,  0.00000000e+00],\n       [-4.72531167e+00,  1.04607445e+01,  2.00000000e+00],\n       [-3.37185030e+00,  8.58292971e+00,  1.00000000e+00],\n       [-5.36221777e+00,  9.05345676e+00,  2.00000000e+00],\n       [-3.10631482e+00,  1.01234888e+01,  1.00000000e+00],\n       [-4.64759285e+00,  8.31310012e+00,  0.00000000e+00],\n       [-3.02808525e+00,  9.35062304e+00,  1.00000000e+00],\n       [-3.44175108e+00,  1.05792087e+01,  1.00000000e+00],\n       [-3.56485307e+00,  8.28999330e+00,  2.00000000e+00],\n       [-2.98512103e+00,  9.12835751e+00,  2.00000000e+00],\n       [-4.70860955e+00,  1.06535482e+01,  2.00000000e+00],\n       [-5.26530961e+00,  8.46635409e+00,  0.00000000e+00],\n       [-4.20689530e+00,  8.07804294e+00,  0.00000000e+00],\n       [-5.66656693e+00,  9.21924061e+00,  0.00000000e+00],\n       [-4.91190515e+00,  1.07553547e+01,  0.00000000e+00],\n       [-4.91190232e+00,  8.10167182e+00,  0.00000000e+00],\n       [-5.33956110e+00,  1.06783369e+01,  0.00000000e+00],\n       [-5.79300499e+00,  9.66361514e+00,  0.00000000e+00],\n       [-3.16300794e+00,  1.07114850e+01,  0.00000000e+00],\n       [-5.63741040e+00,  8.49949630e+00,  1.00000000e+00],\n       [-4.43656823e+00,  1.11776159e+01,  0.00000000e+00],\n       [-2.92107885e+00,  1.04515287e+01,  0.00000000e+00],\n       [-3.62506808e+00,  1.10039355e+01,  0.00000000e+00],\n       [-2.42163912e+00,  9.45554093e+00,  0.00000000e+00],\n       [-2.93774429e+00,  1.07354785e+01,  0.00000000e+00],\n       [ 4.27049852e+00,  4.28460452e+00,  1.00000000e+00],\n       [ 5.04233326e+00,  5.38479322e+00,  0.00000000e+00],\n       [ 6.27118302e+00,  4.78290189e+00,  0.00000000e+00],\n       [ 6.49286795e+00,  4.59205308e+00,  1.00000000e+00],\n       [ 4.74389173e+00,  5.50822101e+00,  1.00000000e+00],\n       [ 6.00488157e+00,  3.37206723e+00,  2.00000000e+00],\n       [ 3.86555338e+00,  4.51947874e+00,  2.00000000e+00],\n       [ 4.19792431e+00,  4.90367702e+00,  1.00000000e+00],\n       [ 5.44116304e+00,  5.66045949e+00,  1.00000000e+00],\n       [ 6.01567992e+00,  5.20417887e+00,  0.00000000e+00],\n       [ 6.40276114e+00,  3.56320691e+00,  2.00000000e+00],\n       [ 5.90335434e+00,  5.41096522e+00,  0.00000000e+00],\n       [ 3.94890701e+00,  5.17551640e+00,  2.00000000e+00],\n       [ 3.96948981e+00,  3.65124552e+00,  2.00000000e+00],\n       [ 3.91936546e+00,  3.29921017e+00,  0.00000000e+00],\n       [ 5.31772128e+00,  2.70498960e+00,  0.00000000e+00],\n       [ 6.77435205e+00,  4.21178701e+00,  0.00000000e+00],\n       [ 3.60587965e+00,  4.06364225e+00,  0.00000000e+00],\n       [ 6.11771629e+00,  2.76346329e+00,  1.00000000e+00],\n       [ 6.55394642e+00,  3.26401057e+00,  0.00000000e+00],\n       [ 4.77221719e+00,  5.97180422e+00,  0.00000000e+00],\n       [ 4.27696871e+00,  2.80777937e+00,  0.00000000e+00],\n       [ 7.09211396e+00,  4.45339293e+00,  0.00000000e+00],\n       [ 7.03009863e+00,  8.46106739e+00,  0.00000000e+00],\n       [ 6.49736319e+00,  8.71237379e+00,  2.00000000e+00],\n       [ 8.41888105e+00,  8.74725985e+00,  2.00000000e+00],\n       [ 6.31658976e+00,  9.00414073e+00,  1.00000000e+00],\n       [ 8.32496892e+00,  1.04339973e+01,  1.00000000e+00],\n       [ 5.94216916e+00,  9.59652713e+00,  2.00000000e+00],\n       [ 6.41809106e+00,  1.01844724e+01,  0.00000000e+00],\n       [ 8.59997001e+00,  1.01595252e+01,  2.00000000e+00],\n       [ 7.13321072e+00,  1.05963448e+01,  0.00000000e+00],\n       [ 8.88399878e+00,  9.20269695e+00,  1.00000000e+00],\n       [ 6.43589340e+00,  8.52463393e+00,  2.00000000e+00],\n       [ 8.70794370e+00,  8.86495723e+00,  0.00000000e+00],\n       [ 6.77968383e+00,  1.06107022e+01,  0.00000000e+00],\n       [ 6.02737520e+00,  9.87952864e+00,  0.00000000e+00],\n       [ 6.47947525e+00,  1.05314874e+01,  0.00000000e+00],\n       [ 8.62524927e+00,  1.03939628e+01,  0.00000000e+00],\n       [ 7.00188435e+00,  1.09193443e+01,  0.00000000e+00],\n       [ 6.24166352e+00,  1.04820948e+01,  0.00000000e+00],\n       [ 6.56547639e+00,  7.96970910e+00,  0.00000000e+00],\n       [ 8.72945011e+00,  8.39147374e+00,  0.00000000e+00],\n       [ 7.94092693e+00,  7.46824939e+00,  0.00000000e+00],\n       [ 6.54210238e+00,  8.77928621e-01,  2.00000000e+00],\n       [ 6.71341010e+00,  1.39155201e+00,  1.00000000e+00],\n       [ 6.97096402e+00, -3.04936947e-01,  1.00000000e+00],\n       [ 6.24312586e+00,  1.23382869e+00,  2.00000000e+00],\n       [ 8.53243752e+00,  4.93918166e-01,  1.00000000e+00],\n       [ 7.62811066e+00, -4.95390134e-01,  2.00000000e+00],\n       [ 7.25755453e+00, -5.97819207e-01,  1.00000000e+00],\n       [ 6.21862349e+00,  9.33923645e-01,  0.00000000e+00],\n       [ 6.65709066e+00,  1.75736874e+00,  1.00000000e+00],\n       [ 8.22916899e+00, -3.01158970e-01,  2.00000000e+00],\n       [ 8.80831233e+00,  3.20160185e-01,  2.00000000e+00],\n       [ 6.12784354e+00,  4.54827645e-01,  2.00000000e+00],\n       [ 8.42407267e+00,  1.53771326e+00,  0.00000000e+00],\n       [ 8.79872439e+00,  8.00469313e-01,  0.00000000e+00],\n       [ 6.58987657e+00,  1.94463506e+00,  2.00000000e+00],\n       [ 5.84649932e+00,  9.08308232e-01,  1.00000000e+00],\n       [ 8.30605967e+00,  1.86084835e+00,  0.00000000e+00],\n       [ 5.82919877e+00,  5.93828393e-01,  0.00000000e+00],\n       [ 8.79112652e+00,  1.75234156e+00,  1.00000000e+00],\n       [ 7.25994911e+00,  2.42293777e+00,  0.00000000e+00],\n       [ 8.08234454e+00, -1.11981282e+00,  0.00000000e+00],\n       [ 8.44358109e+00, -1.21773921e+00,  0.00000000e+00],\n       [ 8.78389653e+00, -3.61296005e-01,  0.00000000e+00],\n       [-5.63696987e+00, -1.05301062e+01,  0.00000000e+00],\n       [-5.75717912e+00, -1.07518131e+01,  0.00000000e+00],\n       [-6.05212041e+00, -8.94554498e+00,  2.00000000e+00],\n       [-6.30907651e+00, -1.03521819e+01,  2.00000000e+00],\n       [-4.24772133e+00, -9.73211820e+00,  2.00000000e+00],\n       [-4.14857038e+00, -1.02735352e+01,  1.00000000e+00],\n       [-6.10571788e+00, -1.06304824e+01,  0.00000000e+00],\n       [-4.36329696e+00, -1.06566059e+01,  1.00000000e+00],\n       [-6.58142427e+00, -9.68692635e+00,  2.00000000e+00],\n       [-5.98671995e+00, -1.08157118e+01,  0.00000000e+00],\n       [-4.95115762e+00, -8.53657603e+00,  0.00000000e+00],\n       [-6.01904729e+00, -8.57042678e+00,  0.00000000e+00],\n       [-5.74876147e+00, -8.53552720e+00,  2.00000000e+00],\n       [-3.99921142e+00, -9.21274479e+00,  1.00000000e+00],\n       [-6.75378707e+00, -9.26739759e+00,  1.00000000e+00],\n       [-4.83912941e+00, -1.12297228e+01,  0.00000000e+00],\n       [-6.01783539e+00, -1.11832710e+01,  2.00000000e+00],\n       [-4.26858932e+00, -8.64025584e+00,  0.00000000e+00],\n       [-5.18033061e+00, -1.12660257e+01,  0.00000000e+00],\n       [-6.87967999e+00, -9.77356088e+00,  0.00000000e+00],\n       [-6.94666059e+00, -9.28936077e+00,  2.00000000e+00],\n       [-3.74685780e+00, -1.00192491e+01,  0.00000000e+00],\n       [-3.76832148e+00, -8.72083334e+00,  0.00000000e+00],\n       [-6.94485851e+00, -1.03287858e+01,  0.00000000e+00],\n       [-7.25370326e+00, -1.00340356e+01,  0.00000000e+00],\n       [-3.47877651e+00, -9.75643523e+00,  0.00000000e+00],\n       [ 2.94387846e+00,  8.62168637e-01,  2.00000000e+00]])"
     },
     "execution_count": 543,
     "metadata": {},
     "output_type": "execute_result"
    }
   ],
   "source": [
    "zero_dens = arrays_dens[np.where(arrays_dens[:, len(arrays_dens[0, :]) - 1] < 3)]\n",
    "zero_dens"
   ],
   "metadata": {
    "collapsed": false,
    "pycharm": {
     "name": "#%%\n"
    }
   }
  },
  {
   "cell_type": "code",
   "execution_count": 544,
   "outputs": [
    {
     "data": {
      "text/plain": "<matplotlib.collections.PathCollection at 0x7f1cc9882370>"
     },
     "execution_count": 544,
     "metadata": {},
     "output_type": "execute_result"
    },
    {
     "data": {
      "text/plain": "<Figure size 432x288 with 1 Axes>",
      "image/png": "[encoded data removed]"
     },
     "metadata": {
      "needs_background": "light"
     },
     "output_type": "display_data"
    }
   ],
   "source": [
    "plt.scatter(arrays_dens[:, 0], arrays_dens[:, 1])"
   ],
   "metadata": {
    "collapsed": false,
    "pycharm": {
     "name": "#%%\n"
    }
   }
  },
  {
   "cell_type": "code",
   "execution_count": 545,
   "outputs": [
    {
     "data": {
      "text/plain": "<matplotlib.collections.PathCollection at 0x7f1cc9878400>"
     },
     "execution_count": 545,
     "metadata": {},
     "output_type": "execute_result"
    },
    {
     "data": {
      "text/plain": "<Figure size 432x288 with 1 Axes>",
      "image/png": "[encoded data removed]"
     },
     "metadata": {
      "needs_background": "light"
     },
     "output_type": "display_data"
    }
   ],
   "source": [
    "plt.scatter(new_dens[:, 0], new_dens[:, 1])"
   ],
   "metadata": {
    "collapsed": false,
    "pycharm": {
     "name": "#%%\n"
    }
   }
  },
  {
   "cell_type": "code",
   "execution_count": 546,
   "outputs": [
    {
     "data": {
      "text/plain": "array([[-1.59824599e+00, -1.89785888e+00],\n       [ 4.69737054e-01, -1.94835411e-03],\n       [ 4.82214604e-01,  2.93491214e-01],\n       [ 1.36724829e+00,  2.39448596e-01],\n       [ 2.02422122e+00, -1.91900464e+00],\n       [ 2.02415128e+00, -1.52996391e+00],\n       [ 6.13238647e-01,  8.14289802e-01],\n       [ 1.20544128e+00,  4.02269412e-02],\n       [ 2.75166959e+00, -1.64304184e+00],\n       [ 2.02631461e+00, -1.35278864e+00],\n       [ 1.88215031e+00, -1.08840860e+00],\n       [ 2.15249100e+00, -9.70922325e-01],\n       [ 1.76171166e+00, -1.39948326e+00],\n       [ 1.70375702e-01,  2.90032101e-01],\n       [-7.56628126e-01, -1.82445858e+00],\n       [ 7.34150060e-01,  1.23115313e+00],\n       [ 1.51733666e+00,  4.43901398e-01],\n       [ 8.65522298e-01,  1.45744574e+00],\n       [ 1.80089570e+00, -1.67881760e+00],\n       [-1.80600539e+00, -2.43279989e+00],\n       [-8.53621754e-01, -2.36637506e+00],\n       [ 3.14452156e-01, -1.12391371e+00],\n       [ 1.86735599e+00,  9.17304564e-01],\n       [ 1.76660335e+00,  5.46718007e-01],\n       [-1.95989311e+00, -1.56810176e+00],\n       [-9.53687374e-01, -1.41424654e+00],\n       [ 5.54651479e-01, -1.13071247e+00],\n       [ 1.54799350e+00, -1.46204791e+00],\n       [-9.72198946e-01, -1.24724524e+00],\n       [ 1.57177459e+00, -5.73141443e-01],\n       [ 1.49642557e+00, -8.97654418e-01],\n       [ 2.79917683e-01,  1.14348100e+00],\n       [ 2.94899676e+00, -2.17160353e+00],\n       [ 1.08520922e+00, -1.18460777e+00],\n       [-1.66555837e+00, -1.12738721e+00],\n       [-2.08116480e+00, -2.45038825e+00],\n       [ 5.69269484e-01,  1.53492164e+00],\n       [-1.28385031e+00, -2.74467989e+00],\n       [ 3.21927552e-02,  7.57414314e-01],\n       [ 2.46229046e+00, -5.87536245e-01],\n       [-3.61735140e-01,  7.08208870e-02],\n       [ 1.13807011e+00, -1.14962878e+00],\n       [-6.64917724e-01, -2.55249027e+00],\n       [-6.83242252e-01, -1.57385097e+00],\n       [-1.87228455e+00, -1.27263100e+00],\n       [ 1.71851187e+00,  1.23936978e-01],\n       [-2.28022106e+00, -2.30374250e+00],\n       [ 3.42430828e-01, -1.45452369e+00],\n       [-5.11484082e-01, -3.14146004e-01],\n       [-4.64613807e-01, -2.29273346e+00],\n       [-8.47840225e-01, -2.88165222e+00],\n       [-1.76892366e+00, -2.95230083e+00],\n       [-6.71555183e-01, -1.07619490e+00],\n       [ 3.43670323e+00, -1.67211867e+00],\n       [-2.35242351e+00, -1.70923793e+00],\n       [ 2.01385281e+00,  1.36734310e+00],\n       [-3.12761788e-01, -1.69001617e+00],\n       [-7.69593439e-01, -8.44451779e-01],\n       [-2.53555413e+00, -1.98102933e+00],\n       [ 1.55925915e+00,  1.83250992e+00],\n       [ 2.23399102e+00,  1.07966979e-01],\n       [-2.69926743e-01, -2.16900054e+00],\n       [ 1.40950309e+00, -2.26288673e+00],\n       [-1.49792660e+00, -3.16252347e+00],\n       [ 2.65455883e+00, -4.57192050e-01],\n       [-1.10847201e+00, -7.50090567e-01],\n       [ 4.20096648e-02, -1.91308366e+00],\n       [ 2.47787529e+00, -2.58401035e-01],\n       [ 1.76632036e+00, -2.52041357e+00],\n       [-2.38345090e+00, -2.64675307e+00],\n       [-1.25246730e+00, -3.13786290e+00],\n       [ 3.53534586e+00, -1.82581852e+00],\n       [ 2.87761009e+00, -2.64252491e+00],\n       [-1.04156147e+00, -5.24483485e-01],\n       [ 3.87583069e-01,  2.04296070e+00],\n       [-1.34241617e+00, -6.09783608e-01],\n       [-4.80351916e-01,  5.87147444e-01],\n       [ 3.80812087e+00, -1.36440634e+00],\n       [-2.44996815e+00, -1.19596759e+00],\n       [-7.64330000e-01,  2.81202259e-01],\n       [-9.58442854e-01, -3.22776152e+00],\n       [ 3.47089853e+00, -4.96979544e-01],\n       [ 1.96768057e+00,  2.08662796e+00],\n       [ 3.27261982e+00, -1.32830185e-01],\n       [-3.77657204e-01, -2.91224246e+00],\n       [ 2.64702593e+00,  3.63723084e-01],\n       [-1.57584216e-01,  1.82695998e+00],\n       [ 3.69101639e-01, -2.31663245e+00],\n       [ 2.20025300e+00,  2.44445632e+00],\n       [ 1.16829288e+00,  2.49618889e+00],\n       [ 2.71962866e+00,  6.45960863e-01],\n       [ 2.59761610e+00, -3.03723402e+00],\n       [ 4.14428506e+00, -1.74601896e+00],\n       [-3.46917400e+00, -4.59887773e+00],\n       [-4.20769425e+00, -6.33730209e+00],\n       [-2.29573018e+00, -5.76901725e+00],\n       [-2.21338560e+00, -6.07760147e+00],\n       [-4.41190094e+00, -5.07014856e+00],\n       [-2.33518075e+00, -6.47385422e+00],\n       [-3.64776150e+00, -4.32747577e+00],\n       [-3.72796837e+00, -7.01172479e+00],\n       [-4.30867530e+00, -6.54177891e+00],\n       [-1.96573866e+00, -6.06643176e+00],\n       [-3.89051319e+00, -4.42556578e+00],\n       [-3.15557123e+00, -6.99337143e+00],\n       [-2.15977483e+00, -4.91318356e+00],\n       [-2.67141473e+00, -4.25788587e+00],\n       [-2.96835618e+00, -4.14335734e+00],\n       [-4.75554360e+00, -5.32284575e+00],\n       [-3.61519072e+00, -4.12825382e+00],\n       [-4.81017166e+00, -5.86263213e+00],\n       [-3.36534432e+00, -7.17146729e+00],\n       [-2.89663808e+00, -7.35289131e+00],\n       [-2.16977767e+00, -6.69461099e+00],\n       [-5.02035717e+00, -5.99759539e+00],\n       [-1.96272173e+00, -4.69706382e+00],\n       [-1.66837405e+00, -5.64227922e+00],\n       [-4.91736732e+00, -5.06474939e+00],\n       [-1.73344770e+00, -6.32689951e+00],\n       [-1.60916156e+00, -5.28906795e+00],\n       [-4.56831765e+00,  8.60319588e+00],\n       [-5.29714978e+00,  9.37269577e+00],\n       [-3.70517029e+00,  8.56408976e+00],\n       [-5.04005756e+00,  8.63253880e+00],\n       [-3.34375300e+00,  1.00915146e+01],\n       [-4.72531167e+00,  1.04607445e+01],\n       [-3.37185030e+00,  8.58292971e+00],\n       [-5.36221777e+00,  9.05345676e+00],\n       [-3.10631482e+00,  1.01234888e+01],\n       [-4.64759285e+00,  8.31310012e+00],\n       [-3.02808525e+00,  9.35062304e+00],\n       [-3.44175108e+00,  1.05792087e+01],\n       [-3.56485307e+00,  8.28999330e+00],\n       [-2.98512103e+00,  9.12835751e+00],\n       [-4.70860955e+00,  1.06535482e+01],\n       [-5.26530961e+00,  8.46635409e+00],\n       [-4.20689530e+00,  8.07804294e+00],\n       [-5.66656693e+00,  9.21924061e+00],\n       [-4.91190515e+00,  1.07553547e+01],\n       [-4.91190232e+00,  8.10167182e+00],\n       [-5.33956110e+00,  1.06783369e+01],\n       [-5.79300499e+00,  9.66361514e+00],\n       [-3.16300794e+00,  1.07114850e+01],\n       [-5.63741040e+00,  8.49949630e+00],\n       [-4.43656823e+00,  1.11776159e+01],\n       [-2.92107885e+00,  1.04515287e+01],\n       [-3.62506808e+00,  1.10039355e+01],\n       [-2.42163912e+00,  9.45554093e+00],\n       [-2.93774429e+00,  1.07354785e+01],\n       [ 4.27049852e+00,  4.28460452e+00],\n       [ 5.04233326e+00,  5.38479322e+00],\n       [ 6.27118302e+00,  4.78290189e+00],\n       [ 6.49286795e+00,  4.59205308e+00],\n       [ 4.74389173e+00,  5.50822101e+00],\n       [ 6.00488157e+00,  3.37206723e+00],\n       [ 3.86555338e+00,  4.51947874e+00],\n       [ 4.19792431e+00,  4.90367702e+00],\n       [ 5.44116304e+00,  5.66045949e+00],\n       [ 6.01567992e+00,  5.20417887e+00],\n       [ 6.40276114e+00,  3.56320691e+00],\n       [ 5.90335434e+00,  5.41096522e+00],\n       [ 3.94890701e+00,  5.17551640e+00],\n       [ 3.96948981e+00,  3.65124552e+00],\n       [ 3.91936546e+00,  3.29921017e+00],\n       [ 5.31772128e+00,  2.70498960e+00],\n       [ 6.77435205e+00,  4.21178701e+00],\n       [ 3.60587965e+00,  4.06364225e+00],\n       [ 6.11771629e+00,  2.76346329e+00],\n       [ 6.55394642e+00,  3.26401057e+00],\n       [ 4.77221719e+00,  5.97180422e+00],\n       [ 4.27696871e+00,  2.80777937e+00],\n       [ 7.09211396e+00,  4.45339293e+00],\n       [ 7.03009863e+00,  8.46106739e+00],\n       [ 6.49736319e+00,  8.71237379e+00],\n       [ 8.41888105e+00,  8.74725985e+00],\n       [ 6.31658976e+00,  9.00414073e+00],\n       [ 8.32496892e+00,  1.04339973e+01],\n       [ 5.94216916e+00,  9.59652713e+00],\n       [ 6.41809106e+00,  1.01844724e+01],\n       [ 8.59997001e+00,  1.01595252e+01],\n       [ 7.13321072e+00,  1.05963448e+01],\n       [ 8.88399878e+00,  9.20269695e+00],\n       [ 6.43589340e+00,  8.52463393e+00],\n       [ 8.70794370e+00,  8.86495723e+00],\n       [ 6.77968383e+00,  1.06107022e+01],\n       [ 6.02737520e+00,  9.87952864e+00],\n       [ 6.47947525e+00,  1.05314874e+01],\n       [ 8.62524927e+00,  1.03939628e+01],\n       [ 7.00188435e+00,  1.09193443e+01],\n       [ 6.24166352e+00,  1.04820948e+01],\n       [ 6.56547639e+00,  7.96970910e+00],\n       [ 8.72945011e+00,  8.39147374e+00],\n       [ 7.94092693e+00,  7.46824939e+00],\n       [ 6.54210238e+00,  8.77928621e-01],\n       [ 6.71341010e+00,  1.39155201e+00],\n       [ 6.97096402e+00, -3.04936947e-01],\n       [ 6.24312586e+00,  1.23382869e+00],\n       [ 8.53243752e+00,  4.93918166e-01],\n       [ 7.62811066e+00, -4.95390134e-01],\n       [ 7.25755453e+00, -5.97819207e-01],\n       [ 6.21862349e+00,  9.33923645e-01],\n       [ 6.65709066e+00,  1.75736874e+00],\n       [ 8.22916899e+00, -3.01158970e-01],\n       [ 8.80831233e+00,  3.20160185e-01],\n       [ 6.12784354e+00,  4.54827645e-01],\n       [ 8.42407267e+00,  1.53771326e+00],\n       [ 8.79872439e+00,  8.00469313e-01],\n       [ 6.58987657e+00,  1.94463506e+00],\n       [ 5.84649932e+00,  9.08308232e-01],\n       [ 8.30605967e+00,  1.86084835e+00],\n       [ 5.82919877e+00,  5.93828393e-01],\n       [ 8.79112652e+00,  1.75234156e+00],\n       [ 7.25994911e+00,  2.42293777e+00],\n       [ 8.08234454e+00, -1.11981282e+00],\n       [ 8.44358109e+00, -1.21773921e+00],\n       [ 8.78389653e+00, -3.61296005e-01],\n       [-5.63696987e+00, -1.05301062e+01],\n       [-5.75717912e+00, -1.07518131e+01],\n       [-6.05212041e+00, -8.94554498e+00],\n       [-6.30907651e+00, -1.03521819e+01],\n       [-4.24772133e+00, -9.73211820e+00],\n       [-4.14857038e+00, -1.02735352e+01],\n       [-6.10571788e+00, -1.06304824e+01],\n       [-4.36329696e+00, -1.06566059e+01],\n       [-6.58142427e+00, -9.68692635e+00],\n       [-5.98671995e+00, -1.08157118e+01],\n       [-4.95115762e+00, -8.53657603e+00],\n       [-6.01904729e+00, -8.57042678e+00],\n       [-5.74876147e+00, -8.53552720e+00],\n       [-3.99921142e+00, -9.21274479e+00],\n       [-6.75378707e+00, -9.26739759e+00],\n       [-4.83912941e+00, -1.12297228e+01],\n       [-6.01783539e+00, -1.11832710e+01],\n       [-4.26858932e+00, -8.64025584e+00],\n       [-5.18033061e+00, -1.12660257e+01],\n       [-6.87967999e+00, -9.77356088e+00],\n       [-6.94666059e+00, -9.28936077e+00],\n       [-3.74685780e+00, -1.00192491e+01],\n       [-3.76832148e+00, -8.72083334e+00],\n       [-6.94485851e+00, -1.03287858e+01],\n       [-7.25370326e+00, -1.00340356e+01],\n       [-3.47877651e+00, -9.75643523e+00],\n       [ 2.94387846e+00,  8.62168637e-01]])"
     },
     "execution_count": 546,
     "metadata": {},
     "output_type": "execute_result"
    }
   ],
   "source": [
    "zero_dens_point = zero_dens[:, 0:len(zero_dens[0, :]) - 1]\n",
    "zero_dens_point"
   ],
   "metadata": {
    "collapsed": false,
    "pycharm": {
     "name": "#%%\n"
    }
   }
  },
  {
   "cell_type": "code",
   "execution_count": 547,
   "outputs": [
    {
     "data": {
      "text/plain": "array([[-3.67600986, -6.2329457 ],\n       [-3.27569677,  9.84368378],\n       [ 1.45779726,  1.11455992],\n       ...,\n       [-4.58214044, -9.92492753],\n       [ 2.51277446, -1.87306889],\n       [ 7.7494726 ,  0.88925449]])"
     },
     "execution_count": 547,
     "metadata": {},
     "output_type": "execute_result"
    }
   ],
   "source": [
    "delete_values = []\n",
    "for key, value in enumerate(X):\n",
    "    for zkey, zval in enumerate(zero_dens_point):\n",
    "        if dist(zval, value) < eps:\n",
    "            delete_values.append(value)\n",
    "\n",
    "remain_values = []\n",
    "for key, value in enumerate(X):\n",
    "    length = 0\n",
    "    for dkey, dval in enumerate(delete_values):\n",
    "        if (dval != value).all():\n",
    "            length += 1\n",
    "    if length == len(delete_values):\n",
    "        remain_values.append(value)\n",
    "remain_values = np.array(remain_values)\n",
    "remain_values"
   ],
   "metadata": {
    "collapsed": false,
    "pycharm": {
     "name": "#%%\n"
    }
   }
  },
  {
   "cell_type": "code",
   "execution_count": 548,
   "outputs": [
    {
     "data": {
      "text/plain": "<matplotlib.collections.PathCollection at 0x7f1cc949e490>"
     },
     "execution_count": 548,
     "metadata": {},
     "output_type": "execute_result"
    },
    {
     "data": {
      "text/plain": "<Figure size 432x288 with 1 Axes>",
      "image/png": "[encoded data removed]"
     },
     "metadata": {
      "needs_background": "light"
     },
     "output_type": "display_data"
    }
   ],
   "source": [
    "plt.scatter(remain_values[:, 0], remain_values[:, 1])"
   ],
   "metadata": {
    "collapsed": false,
    "pycharm": {
     "name": "#%%\n"
    }
   }
  },
  {
   "cell_type": "code",
   "execution_count": 549,
   "outputs": [],
   "source": [
    "# neigh = NearestNeighbors(n_neighbors=5)\n",
    "# nbrs = neigh.fit(remain_values)\n",
    "# distances, indices = nbrs.kneighbors(remain_values)\n",
    "# distances = np.sort(distances, axis=0)\n",
    "# distances = distances[:, 1]\n",
    "# plt.plot(distances)"
   ],
   "metadata": {
    "collapsed": false,
    "pycharm": {
     "name": "#%%\n"
    }
   }
  },
  {
   "cell_type": "code",
   "execution_count": 550,
   "outputs": [],
   "source": [
    "# diff = np.array([])\n",
    "# for key, value in enumerate(distances):\n",
    "#     if key != len(distances) - 1:\n",
    "#         diff = np.append(diff, abs(value - distances[key + 1]))\n",
    "#\n",
    "# diffStd = diff.std()\n",
    "#\n",
    "# for key, value in enumerate(diff):\n",
    "#     if value > 4 * diffStd:\n",
    "#         print(key)\n",
    "#         print(distances[key])\n",
    "#         eps = distances[key]\n",
    "#         print(\"***\")\n",
    "#         break"
   ],
   "metadata": {
    "collapsed": false,
    "pycharm": {
     "name": "#%%\n"
    }
   }
  },
  {
   "cell_type": "code",
   "execution_count": 551,
   "outputs": [
    {
     "data": {
      "text/plain": "DBSCAN(eps=0.21963664268371602, min_samples=200)"
     },
     "execution_count": 551,
     "metadata": {},
     "output_type": "execute_result"
    }
   ],
   "source": [
    "m = DBSCAN(eps=eps, min_samples=min_pts)\n",
    "m.fit(remain_values)"
   ],
   "metadata": {
    "collapsed": false,
    "pycharm": {
     "name": "#%%\n"
    }
   }
  },
  {
   "cell_type": "code",
   "execution_count": 552,
   "outputs": [
    {
     "data": {
      "text/plain": "array([-1, -1,  0, ..., -1,  7,  5])"
     },
     "execution_count": 552,
     "metadata": {},
     "output_type": "execute_result"
    }
   ],
   "source": [
    "final_db_cluster = m.labels_\n",
    "final_db_cluster"
   ],
   "metadata": {
    "collapsed": false,
    "pycharm": {
     "name": "#%%\n"
    }
   }
  },
  {
   "cell_type": "code",
   "execution_count": 553,
   "outputs": [
    {
     "data": {
      "text/plain": "<matplotlib.collections.PathCollection at 0x7f1cc973f3d0>"
     },
     "execution_count": 553,
     "metadata": {},
     "output_type": "execute_result"
    },
    {
     "data": {
      "text/plain": "<Figure size 432x288 with 1 Axes>",
      "image/png": "[encoded data removed]"
     },
     "metadata": {
      "needs_background": "light"
     },
     "output_type": "display_data"
    }
   ],
   "source": [
    "plt.scatter(remain_values[:, 0], remain_values[:, 1], c=vectorizer(final_db_cluster))"
   ],
   "metadata": {
    "collapsed": false,
    "pycharm": {
     "name": "#%%\n"
    }
   }
  },
  {
   "cell_type": "code",
   "execution_count": 554,
   "outputs": [
    {
     "data": {
      "text/plain": "              0         1  cluster\n0     -3.676010 -6.232946       -1\n1     -3.275697  9.843684       -1\n2      1.457797  1.114560        0\n3      2.220131 -1.775720        7\n4      5.671494  4.069027        1\n...         ...       ...      ...\n29918 -5.153248 -9.749700        8\n29919 -4.459114  9.715932        4\n29920 -4.582140 -9.924928       -1\n29921  2.512774 -1.873069        7\n29922  7.749473  0.889254        5\n\n[29923 rows x 3 columns]",
      "text/html": "<div>\n<style scoped>\n    .dataframe tbody tr th:only-of-type {\n        vertical-align: middle;\n    }\n\n    .dataframe tbody tr th {\n        vertical-align: top;\n    }\n\n    .dataframe thead th {\n        text-align: right;\n    }\n</style>\n<table border=\"1\" class=\"dataframe\">\n  <thead>\n    <tr style=\"text-align: right;\">\n      <th></th>\n      <th>0</th>\n      <th>1</th>\n      <th>cluster</th>\n    </tr>\n  </thead>\n  <tbody>\n    <tr>\n      <th>0</th>\n      <td>-3.676010</td>\n      <td>-6.232946</td>\n      <td>-1</td>\n    </tr>\n    <tr>\n      <th>1</th>\n      <td>-3.275697</td>\n      <td>9.843684</td>\n      <td>-1</td>\n    </tr>\n    <tr>\n      <th>2</th>\n      <td>1.457797</td>\n      <td>1.114560</td>\n      <td>0</td>\n    </tr>\n    <tr>\n      <th>3</th>\n      <td>2.220131</td>\n      <td>-1.775720</td>\n      <td>7</td>\n    </tr>\n    <tr>\n      <th>4</th>\n      <td>5.671494</td>\n      <td>4.069027</td>\n      <td>1</td>\n    </tr>\n    <tr>\n      <th>...</th>\n      <td>...</td>\n      <td>...</td>\n      <td>...</td>\n    </tr>\n    <tr>\n      <th>29918</th>\n      <td>-5.153248</td>\n      <td>-9.749700</td>\n      <td>8</td>\n    </tr>\n    <tr>\n      <th>29919</th>\n      <td>-4.459114</td>\n      <td>9.715932</td>\n      <td>4</td>\n    </tr>\n    <tr>\n      <th>29920</th>\n      <td>-4.582140</td>\n      <td>-9.924928</td>\n      <td>-1</td>\n    </tr>\n    <tr>\n      <th>29921</th>\n      <td>2.512774</td>\n      <td>-1.873069</td>\n      <td>7</td>\n    </tr>\n    <tr>\n      <th>29922</th>\n      <td>7.749473</td>\n      <td>0.889254</td>\n      <td>5</td>\n    </tr>\n  </tbody>\n</table>\n<p>29923 rows × 3 columns</p>\n</div>"
     },
     "execution_count": 554,
     "metadata": {},
     "output_type": "execute_result"
    }
   ],
   "source": [
    "dens_cluster_value = pd.concat([pd.DataFrame(remain_values), pd.DataFrame(final_db_cluster, columns=['cluster'])],\n",
    "                               axis=1)\n",
    "dens_cluster_value"
   ],
   "metadata": {
    "collapsed": false,
    "pycharm": {
     "name": "#%%\n"
    }
   }
  },
  {
   "cell_type": "code",
   "execution_count": 555,
   "outputs": [],
   "source": [
    "def find_center_point_cluster(cluster_values, cluster_number):\n",
    "    center_points = []\n",
    "    for i in range(cluster_number):\n",
    "        mid_point = []\n",
    "        denses = cluster_values.groupby('cluster').get_group(i).drop('cluster', axis=1).to_numpy()\n",
    "        for key, value in enumerate(denses):\n",
    "            if key == 0:\n",
    "                mid_point = value\n",
    "            if (key != len(denses)):\n",
    "                mid_point = find_center_point(mid_point, value)\n",
    "        center_points.append(mid_point)\n",
    "    return center_points\n",
    "\n",
    "center_point =find_center_point_cluster(dens_cluster_value, max(final_db_cluster) + 1)"
   ],
   "metadata": {
    "collapsed": false,
    "pycharm": {
     "name": "#%%\n"
    }
   }
  },
  {
   "cell_type": "code",
   "execution_count": 556,
   "outputs": [
    {
     "data": {
      "text/plain": "array([[ 0.67732382,  0.17506355],\n       [ 4.91307843,  4.31844197],\n       [-3.18625974, -5.47617447],\n       [ 7.1953728 ,  9.21078697],\n       [-4.4454562 ,  9.6855654 ],\n       [ 7.58612547,  0.82334265],\n       [-1.22058391, -2.01144896],\n       [ 2.5178564 , -1.60017005],\n       [-5.20881481, -9.79646922]])"
     },
     "execution_count": 556,
     "metadata": {},
     "output_type": "execute_result"
    }
   ],
   "source": [
    "center_point = np.array(center_point)\n",
    "center_point"
   ],
   "metadata": {
    "collapsed": false,
    "pycharm": {
     "name": "#%%\n"
    }
   }
  },
  {
   "cell_type": "code",
   "execution_count": 557,
   "outputs": [
    {
     "data": {
      "text/plain": "array([7, 2, 4, ..., 6, 7, 5], dtype=int32)"
     },
     "execution_count": 557,
     "metadata": {},
     "output_type": "execute_result"
    }
   ],
   "source": [
    "kmeans = KMeans(n_clusters=len(center_point), init=center_point, n_init=1)\n",
    "kmeans.fit(X)\n",
    "k_clusters = kmeans.labels_\n",
    "k_clusters"
   ],
   "metadata": {
    "collapsed": false,
    "pycharm": {
     "name": "#%%\n"
    }
   }
  },
  {
   "cell_type": "code",
   "execution_count": 558,
   "outputs": [
    {
     "data": {
      "text/plain": "<matplotlib.collections.PathCollection at 0x7f1cc96def70>"
     },
     "execution_count": 558,
     "metadata": {},
     "output_type": "execute_result"
    },
    {
     "data": {
      "text/plain": "<Figure size 432x288 with 1 Axes>",
      "image/png": "[encoded data removed]"
     },
     "metadata": {
      "needs_background": "light"
     },
     "output_type": "display_data"
    }
   ],
   "source": [
    "plt.scatter(X[:, 0], X[:, 1], c=vectorizer(k_clusters))"
   ],
   "metadata": {
    "collapsed": false,
    "pycharm": {
     "name": "#%%\n"
    }
   }
  },
  {
   "cell_type": "code",
   "execution_count": 558,
   "outputs": [],
   "source": [],
   "metadata": {
    "collapsed": false,
    "pycharm": {
     "name": "#%%\n"
    }
   }
  },
  {
   "cell_type": "code",
   "execution_count": 558,
   "outputs": [],
   "source": [],
   "metadata": {
    "collapsed": false,
    "pycharm": {
     "name": "#%%\n"
    }
   }
  }
 ],
 "metadata": {
  "kernelspec": {
   "display_name": "Python 3",
   "language": "python",
   "name": "python3"
  },
  "language_info": {
   "codemirror_mode": {
    "name": "ipython",
    "version": 2
   },
   "file_extension": ".py",
   "mimetype": "text/x-python",
   "name": "python",
   "nbconvert_exporter": "python",
   "pygments_lexer": "ipython2",
   "version": "2.7.6"
  }
 },
 "nbformat": 4,
 "nbformat_minor": 0
}